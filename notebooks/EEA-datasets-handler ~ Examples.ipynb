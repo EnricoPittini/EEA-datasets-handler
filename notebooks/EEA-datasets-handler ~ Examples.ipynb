{
 "cells": [
  {
   "cell_type": "code",
   "execution_count": 1,
   "metadata": {},
   "outputs": [],
   "source": [
    "import EEA_datasets_handler as eea"
   ]
  },
  {
   "cell_type": "markdown",
   "metadata": {},
   "source": [
    "# FUNCTIONS TO GET THE EEA SUPPORTED VALUES"
   ]
  },
  {
   "cell_type": "code",
   "execution_count": 29,
   "metadata": {},
   "outputs": [
    {
     "name": "stdout",
     "output_type": "stream",
     "text": [
      "{'AT': ['Graz', 'Innsbruck', 'Klagenfurt', 'Linz', 'Salzburg', 'Wien'], 'BE': ['Antwerpen', 'Brugge', 'Bruxelles / Brussel', 'Charleroi', 'Gent', 'Kortrijk', 'Leuven', 'Liège', 'Mons', 'Namur'], 'BG': ['Blagoevgrad', 'Burgas', 'Dobrich', 'Haskovo', 'Pazardzhik', 'Pernik', 'Pleven', 'Plovdiv', 'Ruse', 'Shumen', 'Sliven', 'Sofia', 'Stara Zagora', 'Varna', 'Veliko Tarnovo', 'Vidin', 'Vratsa'], 'CH': ['Basel', 'Bern', 'Genève', 'Lausanne', 'Lugano', 'Luzern', 'St. Gallen', 'Winterthur', 'Zürich'], 'CY': ['Lefkosia', 'Lemesos'], 'CZ': ['Brno', 'Ceské Budejovice', 'Chomutov-Jirkov', 'Havírov', 'Hradec Králové', 'Jihlava', 'Karlovy Vary', 'Karviná', 'Kladno', 'Liberec', 'Most', 'Olomouc', 'Ostrava', 'Pardubice', 'Plzen', 'Praha', 'Ústí nad Labem', 'Zlín'], 'DE': ['Aachen', 'Aschaffenburg', 'Augsburg', 'Bamberg', 'Bayreuth', 'Berlin', 'Bielefeld', 'Bochum', 'Bonn', 'Bottrop', 'Brandenburg an der Havel', 'Braunschweig', 'Bremen', 'Bremerhaven', 'Celle', 'Chemnitz', 'Cottbus', 'Darmstadt', 'Dessau-Roßlau', 'Dortmund', 'Dresden', 'Duisburg', 'Düsseldorf', 'Erfurt', 'Erlangen', 'Essen', 'Esslingen am Neckar', 'Flensburg', 'Frankenthal (Pfalz)', 'Frankfurt (Oder)', 'Frankfurt am Main', 'Freiburg im Breisgau', 'Friedrichshafen', 'Fulda', 'Fürth', 'Gelsenkirchen', 'Gera', 'Gießen', 'Görlitz', 'Göttingen', 'Hagen', 'Halle an der Saale', 'Hamburg', 'Hamm', 'Hanau', 'Hannover', 'Heidelberg', 'Heilbronn', 'Herne', 'Hildesheim', 'Ingolstadt', 'Iserlohn', 'Jena', 'Kaiserslautern', 'Karlsruhe', 'Kassel', 'Kempten (Allgäu)', 'Kiel', 'Koblenz', 'Köln', 'Konstanz', 'Krefeld', 'Landshut', 'Leipzig', 'Leverkusen', 'Lübeck', 'Ludwigsburg', 'Ludwigshafen am Rhein', 'Lüneburg', 'Magdeburg', 'Mainz', 'Mannheim', 'Marburg', 'Moers', 'Mönchengladbach', 'Mülheim a.d.Ruhr', 'München', 'Münster', 'Neubrandenburg', 'Neumünster', 'Neuss', 'Neu-Ulm', 'Nürnberg', 'Oberhausen', 'Offenbach am Main', 'Offenburg', 'Oldenburg (Oldenburg)', 'Osnabrück', 'Paderborn', 'Passau', 'Pforzheim', 'Plauen', 'Potsdam', 'Recklinghausen', 'Regensburg', 'Remscheid', 'Reutlingen', 'Rostock', 'Saarbrücken', 'Salzgitter', 'Schweinfurt', 'Schwerin', 'Siegen', 'Solingen', 'Speyer', 'Stralsund', 'Stuttgart', 'Trier', 'Tübingen', 'Ulm', 'Villingen-Schwenningen', 'Weimar', 'Wetzlar', 'Wiesbaden', 'Witten', 'Wolfsburg', 'Wuppertal', 'Würzburg', 'Zwickau'], 'DK': ['Aalborg', 'Århus', 'København', 'Odense'], 'EE': ['Narva', 'Tallinn', 'Tartu'], 'ES': ['A Coruña', 'Albacete', 'Alcalá de Henares', 'Alcobendas', 'Alcorcón', 'Algeciras', 'Alicante/Alacant', 'Almería', 'Arrecife', 'Avilés', 'Badajoz', 'Barcelona', 'Benidorm', 'Bilbao', 'Burgos', 'Cáceres', 'Cádiz', 'Cartagena', 'Castellón de la Plana/Castelló de la Plana', 'Ciudad Real', 'Córdoba', 'Coslada', 'Dos Hermanas', 'Elche/Elx', 'Elda', 'Ferrol', 'Gandia', 'Getafe', 'Gijón', 'Girona', 'Granada', 'Granollers', 'Guadalajara', 'Jaén', 'Jerez de la Frontera', 'Las Palmas', 'Leganés', 'León', 'Línea de la Concepción, La', 'Lleida', 'Logroño', 'Lugo', 'Madrid', 'Majadahonda', 'Málaga', 'Manresa', 'Marbella', 'Mataró', 'Mollet del Vallès', 'Móstoles', 'Murcia', 'Ourense', 'Oviedo', 'Palencia', 'Palma de Mallorca', 'Pamplona/Iruña', 'Ponferrada', 'Pontevedra', 'Reus', 'Salamanca', 'San Fernando', 'San Sebastián/Donostia', 'Santa Cruz de Tenerife', 'Santander', 'Santiago de Compostela', 'Sevilla', 'Talavera de la Reina', 'Tarragona', 'Telde', 'Terrassa', 'Toledo', 'Torrejón de Ardoz', 'Torrevieja', 'Valencia', 'Valladolid', 'Vigo', 'Viladecans', 'Vilanova i la Geltrú', 'Vitoria/Gasteiz', 'Zamora', 'Zaragoza'], 'FI': ['Helsinki / Helsingfors', 'Jyväskylä', 'Kuopio', 'Lahti / Lahtis', 'Oulu / Uleåborg', 'Tampere / Tammerfors', 'Turku / Åbo'], 'FR': ['Aix-en-Provence', 'Ajaccio', 'Albi', 'Amiens', 'Angers', 'Angoulème', 'Annecy', 'Annemasse', 'Argenteuil - Bezons', 'Arras', 'Aubagne', 'Avignon', 'Bayonne', 'Beauvais', 'Belfort', 'Besançon', 'Bordeaux', 'Boulogne-sur-mer', 'Bourges', 'Brest', 'Brive-la-Gaillarde', 'CA de Sophia-Antipolis', \"CA Europ' Essonne\", 'CA Sénart - Val de Seine', 'Caen', 'Calais', 'Cergy-Pontoise', 'Châlons-en-Champagne', 'Chalon-sur-Saône', 'Chambery', 'Charleville-Mézières', 'Chartres', 'Châteauroux', 'Cherbourg', 'Clermont-Ferrand', 'Colmar', 'Compiègne', 'Creil', 'Dijon', 'Douai', 'Dunkerque', 'Evreux', 'Evry', 'Fort-de-France', 'Fréjus', 'Grenoble', 'Hénin - Carvin', 'La Rochelle', 'Le Havre', 'Le Mans', 'Lens - Liévin', 'Lille', 'Limoges', 'Lorient', 'Lyon', 'Mantes en Yvelines', 'Marne la Vallée', 'Marseille', 'Martigues', 'Melun', 'Metz', 'Montbelliard', 'Montpellier', 'Mulhouse', 'Nancy', 'Nantes', 'Nice', 'Nimes', 'Niort', 'Orléans', 'Paris', 'Pau', 'Perpignan', 'Poitiers', 'Quimper', 'Reims', 'Rennes', 'Roanne', 'Rouen', 'Saint Denis', 'Saint-Brieuc', 'Saint-Etienne', 'Saint-Nazaire', 'Saint-Quentin', 'Strasbourg', 'Tarbes', 'Toulon', 'Toulouse', 'Tours', 'Troyes', 'Valence', 'Valenciennes', 'Vannes', 'Versailles'], 'GB': ['Aberdeen', 'Barnsley', 'Bath and North East Somerset', 'Bedford', 'Belfast', 'Blackburn with Darwen', 'Blackpool', 'Bournemouth', 'Bradford', 'Brighton and Hove', 'Bristol', 'Burnley', 'Cambridge', 'Cannock Chase', 'Cardiff', 'Carlisle', 'Cheshire West and Chester', 'Chesterfield', 'Coventry', 'Crawley', 'Darlington', 'Derby', 'Derry', 'Doncaster', 'Dundee City', 'East Staffordshire', 'Eastbourne', 'Edinburgh', 'Exeter', 'Falkirk', 'Glasgow', 'Gloucester', 'Greater Manchester', 'Greater Nottingham', 'Halton', 'Hartlepool', 'Hyndburn', 'Kingston-upon-Hull', 'Kirklees', 'Leeds', 'Leicester', 'Lincoln', 'Lisburn', 'Liverpool', 'London', 'Luton', 'Maidstone', 'Mansfield', 'Medway', 'Middlesbrough', 'Milton Keynes', 'Newport', 'North East Lincolnshire', 'North Lanarkshire', 'Northampton', 'Norwich', 'Oxford', 'Plymouth', 'Portsmouth', 'Preston', 'Reading', 'Rotherham', 'Sheffield', 'Slough', 'Southampton', 'Southend-on-Sea', 'St Albans', 'Stevenage', 'Stockton-on-Tees', 'Stoke-on-trent', 'Sunderland', 'Swansea', 'Swindon', 'Telford and Wrekin', 'Thurrock', 'Tyneside conurbation', 'Wakefield', 'Warrington', 'Warwick', 'West Midlands urban area', 'Wirral', 'Worthing', 'Wrexham', 'York'], 'GR': ['Athina', 'Larisa', 'Pátra', 'Thessaloniki', 'Volos'], 'HR': ['Osijek', 'Rijeka', 'Slavonski Brod', 'Split', 'Zagreb'], 'HU': ['Budapest', 'Debrecen', 'Gyõr', 'Kecskemét', 'Miskolc', 'Nyíregyháza', 'Pécs', 'Szeged', 'Szombathely'], 'IE': ['Cork', 'Dublin', 'Galway', 'Limerick', 'Waterford'], 'IS': ['Reykjavík'], 'IT': ['Ancona', 'Asti', 'Avellino', 'Bari', 'Barletta', 'Benevento', 'Bergamo', 'Biella', 'Bologna', 'Bolzano', 'Brescia', 'Busto Arsizio', 'Cagliari', 'Campobasso', 'Carrara', 'Caserta', 'Catania', 'Catanzaro', 'Como', 'Cosenza', 'Cremona', 'Ferrara', 'Firenze', 'Foggia', 'Forlì', 'Genova', 'La Spezia', 'Latina', 'Lecce', 'Lecco', 'Livorno', 'Massa', 'Messina', 'Milano', 'Modena', 'Napoli', 'Novara', 'Padova', 'Palermo', 'Parma', 'Pavia', 'Perugia', 'Pesaro', 'Pescara', 'Piacenza', 'Pisa', 'Pordenone', 'Potenza', 'Prato', 'Ravenna', 'Reggio di Calabria', \"Reggio nell'Emilia\", 'Rimini', 'Roma', 'Salerno', 'Sanremo', 'Sassari', 'Savona', 'Siracusa', 'Taranto', 'Terni', 'Torino', 'Trento', 'Treviso', 'Trieste', 'Udine', 'Varese', 'Venezia', 'Verona', 'Viareggio', 'Vicenza', 'Vigevano'], 'LT': ['Kaunas', 'Klaipeda', 'Panevežys', 'Šiauliai', 'Vilnius'], 'LU': ['Luxembourg'], 'LV': ['Liepaja', 'Riga'], 'MT': ['Valletta'], 'NL': ['Amsterdam', 'Apeldoorn', 'Breda', 'Dordrecht', 'Eindhoven', 'Enschede', 'Groningen', 'Haarlem', 'Heerlen', 'Hilversum', 'Leiden', 'Nijmegen', 'Rotterdam', \"'s-Gravenhage\", 'Utrecht'], 'NO': ['Bergen', 'Kristiansand', 'Oslo', 'Stavanger', 'Tromsø', 'Trondheim'], 'PL': ['Bialystok', 'Bielsko-Biala', 'Bydgoszcz', 'Chelm', 'Czestochowa', 'Elblag', 'Elk', 'Gdansk', 'Gdynia', 'Glogów', 'Gniezno', 'Górnoslaski Zwiazek Metropolitalny', 'Gorzów Wielkopolski', 'Grudziadz', 'Inowroclaw', 'Jastrzebie-Zdrój', 'Jelenia Góra', 'Kalisz', 'Kielce', 'Konin', 'Koszalin', 'Kraków', 'Legnica', 'Leszno', 'Lódz', 'Lomza', 'Lubin', 'Lublin', 'Nowy Sacz', 'Olsztyn', 'Opole', 'Ostrów Wielkopolski', 'Pabianice', 'Pila', 'Piotrków Trybunalski', 'Plock', 'Poznan', 'Przemysl', 'Radom', 'Rybnik', 'Rzeszów', 'Siedlce', 'Slupsk', 'Stalowa Wola', 'Stargard Szczecinski', 'Suwalki', 'Swidnica', 'Szczecin', 'Tarnów', 'Tczew', 'Tomaszów Mazowiecki', 'Torun', 'Walbrzych', 'Warszawa', 'Wloclawek', 'Wroclaw', 'Zamosc', 'Zgierz', 'Zielona Góra', 'Zory'], 'PT': ['Aveiro', 'Braga', 'Coimbra', 'Faro', 'Funchal', 'Guimarães', 'Lisboa', 'Paredes', 'Porto', 'Setúbal', 'Sintra', 'Vila Franca de Xira'], 'RO': ['Alba Iulia', 'Arad', 'Bacau', 'Baia Mare', 'Bistrita', 'Botosani', 'Braila', 'Brasov', 'Bucuresti', 'Buzau', 'Calarasi', 'Cluj-Napoca', 'Constanta', 'Craiova', 'Galati', 'Giurgiu', 'Iasi', 'Oradea', 'Piatra Neamt', 'Pitesti', 'Ploiesti', 'Râmnicu Vâlcea', 'Satu Mare', 'Sibiu', 'Suceava', 'Târgu Mures', 'Timisoara', 'Tulcea'], 'SE': ['Borås', 'Göteborg', 'Helsingborg', 'Jönköping', 'Linköping', 'Lund', 'Malmö', 'Norrköping', 'Örebro', 'Stockholm', 'Umeå', 'Uppsala', 'Västerås'], 'SI': ['Ljubljana', 'Maribor'], 'SK': ['Banská Bystrica', 'Bratislava', 'Košice', 'Nitra', 'Prešov', 'Trencín', 'Trnava', 'Žilina'], 'AD': [], 'AL': [], 'BA': [], 'GI': [], 'ME': [], 'MK': [], 'RS': [], 'TR': [], 'XK': []}\n"
     ]
    }
   ],
   "source": [
    "supported_countries_cities_dict = eea.get_supported_countries_cities_dict()\n",
    "print(supported_countries_cities_dict)"
   ]
  },
  {
   "cell_type": "markdown",
   "metadata": {},
   "source": [
    "*The countries without supported cities have associated an empty list*"
   ]
  },
  {
   "cell_type": "code",
   "execution_count": 30,
   "metadata": {},
   "outputs": [
    {
     "name": "stdout",
     "output_type": "stream",
     "text": [
      "{'AD': 'Andorra', 'AL': 'Albania', 'AT': 'Austria', 'BA': 'Bosnia and Herzegovina', 'BE': 'Belgium', 'BG': 'Bulgaria', 'CH': 'Switzerland', 'CY': 'Cypern', 'CZ': 'Czech Republic', 'DE': 'Germany', 'DK': 'Denmark', 'EE': 'Estonia', 'ES': 'Spain', 'FI': 'Finland', 'FR': 'France', 'GB': 'United Kingdom', 'GI': 'Gibraltar', 'GR': 'Greece', 'HR': 'Croatia', 'HU': 'Hungary', 'IE': 'Ireland', 'IS': 'Island', 'IT': 'Italy', 'LT': 'Lithuania', 'LU': 'Luxembourg', 'LV': 'Latvia', 'ME': 'Montenegro', 'MK': 'former Yogoslav Republic of Macedonia, the', 'MT': 'Malta', 'NL': 'Netherlands', 'NO': 'Norway', 'PL': 'Poland', 'PT': 'Portugal', 'RO': 'Romania', 'RS': 'Serbia', 'SE': 'Sweden', 'SI': 'Slovenia', 'SK': 'Slovakia', 'TR': 'Turkey', 'XK': 'Kosovo'}\n"
     ]
    }
   ],
   "source": [
    "supported_countries_dict = eea.get_supported_countries_dict()\n",
    "print(supported_countries_dict)"
   ]
  },
  {
   "cell_type": "code",
   "execution_count": 31,
   "metadata": {},
   "outputs": [
    {
     "name": "stdout",
     "output_type": "stream",
     "text": [
      "{'Andorra': 'AD', 'Albania': 'AL', 'Austria': 'AT', 'Bosnia and Herzegovina': 'BA', 'Belgium': 'BE', 'Bulgaria': 'BG', 'Switzerland': 'CH', 'Cypern': 'CY', 'Czech Republic': 'CZ', 'Germany': 'DE', 'Denmark': 'DK', 'Estonia': 'EE', 'Spain': 'ES', 'Finland': 'FI', 'France': 'FR', 'United Kingdom': 'GB', 'Gibraltar': 'GI', 'Greece': 'GR', 'Croatia': 'HR', 'Hungary': 'HU', 'Ireland': 'IE', 'Island': 'IS', 'Italy': 'IT', 'Lithuania': 'LT', 'Luxembourg': 'LU', 'Latvia': 'LV', 'Montenegro': 'ME', 'former Yogoslav Republic of Macedonia, the': 'MK', 'Malta': 'MT', 'Netherlands': 'NL', 'Norway': 'NO', 'Poland': 'PL', 'Portugal': 'PT', 'Romania': 'RO', 'Serbia': 'RS', 'Sweden': 'SE', 'Slovenia': 'SI', 'Slovakia': 'SK', 'Turkey': 'TR', 'Kosovo': 'XK'}\n"
     ]
    }
   ],
   "source": [
    "supported_countries_inverse_dict = eea.get_supported_countries_inverse_dict()\n",
    "print(supported_countries_inverse_dict)"
   ]
  },
  {
   "cell_type": "code",
   "execution_count": 32,
   "metadata": {},
   "outputs": [
    {
     "name": "stdout",
     "output_type": "stream",
     "text": [
      "['Graz', 'Innsbruck', 'Klagenfurt', 'Linz', 'Salzburg', 'Wien', 'Antwerpen', 'Brugge', 'Bruxelles / Brussel', 'Charleroi', 'Gent', 'Kortrijk', 'Leuven', 'Liège', 'Mons', 'Namur', 'Blagoevgrad', 'Burgas', 'Dobrich', 'Haskovo', 'Pazardzhik', 'Pernik', 'Pleven', 'Plovdiv', 'Ruse', 'Shumen', 'Sliven', 'Sofia', 'Stara Zagora', 'Varna', 'Veliko Tarnovo', 'Vidin', 'Vratsa', 'Basel', 'Bern', 'Genève', 'Lausanne', 'Lugano', 'Luzern', 'St. Gallen', 'Winterthur', 'Zürich', 'Lefkosia', 'Lemesos', 'Brno', 'Ceské Budejovice', 'Chomutov-Jirkov', 'Havírov', 'Hradec Králové', 'Jihlava', 'Karlovy Vary', 'Karviná', 'Kladno', 'Liberec', 'Most', 'Olomouc', 'Ostrava', 'Pardubice', 'Plzen', 'Praha', 'Ústí nad Labem', 'Zlín', 'Aachen', 'Aschaffenburg', 'Augsburg', 'Bamberg', 'Bayreuth', 'Berlin', 'Bielefeld', 'Bochum', 'Bonn', 'Bottrop', 'Brandenburg an der Havel', 'Braunschweig', 'Bremen', 'Bremerhaven', 'Celle', 'Chemnitz', 'Cottbus', 'Darmstadt', 'Dessau-Roßlau', 'Dortmund', 'Dresden', 'Duisburg', 'Düsseldorf', 'Erfurt', 'Erlangen', 'Essen', 'Esslingen am Neckar', 'Flensburg', 'Frankenthal (Pfalz)', 'Frankfurt (Oder)', 'Frankfurt am Main', 'Freiburg im Breisgau', 'Friedrichshafen', 'Fulda', 'Fürth', 'Gelsenkirchen', 'Gera', 'Gießen', 'Görlitz', 'Göttingen', 'Hagen', 'Halle an der Saale', 'Hamburg', 'Hamm', 'Hanau', 'Hannover', 'Heidelberg', 'Heilbronn', 'Herne', 'Hildesheim', 'Ingolstadt', 'Iserlohn', 'Jena', 'Kaiserslautern', 'Karlsruhe', 'Kassel', 'Kempten (Allgäu)', 'Kiel', 'Koblenz', 'Köln', 'Konstanz', 'Krefeld', 'Landshut', 'Leipzig', 'Leverkusen', 'Lübeck', 'Ludwigsburg', 'Ludwigshafen am Rhein', 'Lüneburg', 'Magdeburg', 'Mainz', 'Mannheim', 'Marburg', 'Moers', 'Mönchengladbach', 'Mülheim a.d.Ruhr', 'München', 'Münster', 'Neubrandenburg', 'Neumünster', 'Neuss', 'Neu-Ulm', 'Nürnberg', 'Oberhausen', 'Offenbach am Main', 'Offenburg', 'Oldenburg (Oldenburg)', 'Osnabrück', 'Paderborn', 'Passau', 'Pforzheim', 'Plauen', 'Potsdam', 'Recklinghausen', 'Regensburg', 'Remscheid', 'Reutlingen', 'Rostock', 'Saarbrücken', 'Salzgitter', 'Schweinfurt', 'Schwerin', 'Siegen', 'Solingen', 'Speyer', 'Stralsund', 'Stuttgart', 'Trier', 'Tübingen', 'Ulm', 'Villingen-Schwenningen', 'Weimar', 'Wetzlar', 'Wiesbaden', 'Witten', 'Wolfsburg', 'Wuppertal', 'Würzburg', 'Zwickau', 'Aalborg', 'Århus', 'København', 'Odense', 'Narva', 'Tallinn', 'Tartu', 'A Coruña', 'Albacete', 'Alcalá de Henares', 'Alcobendas', 'Alcorcón', 'Algeciras', 'Alicante/Alacant', 'Almería', 'Arrecife', 'Avilés', 'Badajoz', 'Barcelona', 'Benidorm', 'Bilbao', 'Burgos', 'Cáceres', 'Cádiz', 'Cartagena', 'Castellón de la Plana/Castelló de la Plana', 'Ciudad Real', 'Córdoba', 'Coslada', 'Dos Hermanas', 'Elche/Elx', 'Elda', 'Ferrol', 'Gandia', 'Getafe', 'Gijón', 'Girona', 'Granada', 'Granollers', 'Guadalajara', 'Jaén', 'Jerez de la Frontera', 'Las Palmas', 'Leganés', 'León', 'Línea de la Concepción, La', 'Lleida', 'Logroño', 'Lugo', 'Madrid', 'Majadahonda', 'Málaga', 'Manresa', 'Marbella', 'Mataró', 'Mollet del Vallès', 'Móstoles', 'Murcia', 'Ourense', 'Oviedo', 'Palencia', 'Palma de Mallorca', 'Pamplona/Iruña', 'Ponferrada', 'Pontevedra', 'Reus', 'Salamanca', 'San Fernando', 'San Sebastián/Donostia', 'Santa Cruz de Tenerife', 'Santander', 'Santiago de Compostela', 'Sevilla', 'Talavera de la Reina', 'Tarragona', 'Telde', 'Terrassa', 'Toledo', 'Torrejón de Ardoz', 'Torrevieja', 'Valencia', 'Valladolid', 'Vigo', 'Viladecans', 'Vilanova i la Geltrú', 'Vitoria/Gasteiz', 'Zamora', 'Zaragoza', 'Helsinki / Helsingfors', 'Jyväskylä', 'Kuopio', 'Lahti / Lahtis', 'Oulu / Uleåborg', 'Tampere / Tammerfors', 'Turku / Åbo', 'Aix-en-Provence', 'Ajaccio', 'Albi', 'Amiens', 'Angers', 'Angoulème', 'Annecy', 'Annemasse', 'Argenteuil - Bezons', 'Arras', 'Aubagne', 'Avignon', 'Bayonne', 'Beauvais', 'Belfort', 'Besançon', 'Bordeaux', 'Boulogne-sur-mer', 'Bourges', 'Brest', 'Brive-la-Gaillarde', 'CA de Sophia-Antipolis', \"CA Europ' Essonne\", 'CA Sénart - Val de Seine', 'Caen', 'Calais', 'Cergy-Pontoise', 'Châlons-en-Champagne', 'Chalon-sur-Saône', 'Chambery', 'Charleville-Mézières', 'Chartres', 'Châteauroux', 'Cherbourg', 'Clermont-Ferrand', 'Colmar', 'Compiègne', 'Creil', 'Dijon', 'Douai', 'Dunkerque', 'Evreux', 'Evry', 'Fort-de-France', 'Fréjus', 'Grenoble', 'Hénin - Carvin', 'La Rochelle', 'Le Havre', 'Le Mans', 'Lens - Liévin', 'Lille', 'Limoges', 'Lorient', 'Lyon', 'Mantes en Yvelines', 'Marne la Vallée', 'Marseille', 'Martigues', 'Melun', 'Metz', 'Montbelliard', 'Montpellier', 'Mulhouse', 'Nancy', 'Nantes', 'Nice', 'Nimes', 'Niort', 'Orléans', 'Paris', 'Pau', 'Perpignan', 'Poitiers', 'Quimper', 'Reims', 'Rennes', 'Roanne', 'Rouen', 'Saint Denis', 'Saint-Brieuc', 'Saint-Etienne', 'Saint-Nazaire', 'Saint-Quentin', 'Strasbourg', 'Tarbes', 'Toulon', 'Toulouse', 'Tours', 'Troyes', 'Valence', 'Valenciennes', 'Vannes', 'Versailles', 'Aberdeen', 'Barnsley', 'Bath and North East Somerset', 'Bedford', 'Belfast', 'Blackburn with Darwen', 'Blackpool', 'Bournemouth', 'Bradford', 'Brighton and Hove', 'Bristol', 'Burnley', 'Cambridge', 'Cannock Chase', 'Cardiff', 'Carlisle', 'Cheshire West and Chester', 'Chesterfield', 'Coventry', 'Crawley', 'Darlington', 'Derby', 'Derry', 'Doncaster', 'Dundee City', 'East Staffordshire', 'Eastbourne', 'Edinburgh', 'Exeter', 'Falkirk', 'Glasgow', 'Gloucester', 'Greater Manchester', 'Greater Nottingham', 'Halton', 'Hartlepool', 'Hyndburn', 'Kingston-upon-Hull', 'Kirklees', 'Leeds', 'Leicester', 'Lincoln', 'Lisburn', 'Liverpool', 'London', 'Luton', 'Maidstone', 'Mansfield', 'Medway', 'Middlesbrough', 'Milton Keynes', 'Newport', 'North East Lincolnshire', 'North Lanarkshire', 'Northampton', 'Norwich', 'Oxford', 'Plymouth', 'Portsmouth', 'Preston', 'Reading', 'Rotherham', 'Sheffield', 'Slough', 'Southampton', 'Southend-on-Sea', 'St Albans', 'Stevenage', 'Stockton-on-Tees', 'Stoke-on-trent', 'Sunderland', 'Swansea', 'Swindon', 'Telford and Wrekin', 'Thurrock', 'Tyneside conurbation', 'Wakefield', 'Warrington', 'Warwick', 'West Midlands urban area', 'Wirral', 'Worthing', 'Wrexham', 'York', 'Athina', 'Larisa', 'Pátra', 'Thessaloniki', 'Volos', 'Osijek', 'Rijeka', 'Slavonski Brod', 'Split', 'Zagreb', 'Budapest', 'Debrecen', 'Gyõr', 'Kecskemét', 'Miskolc', 'Nyíregyháza', 'Pécs', 'Szeged', 'Szombathely', 'Cork', 'Dublin', 'Galway', 'Limerick', 'Waterford', 'Reykjavík', 'Ancona', 'Asti', 'Avellino', 'Bari', 'Barletta', 'Benevento', 'Bergamo', 'Biella', 'Bologna', 'Bolzano', 'Brescia', 'Busto Arsizio', 'Cagliari', 'Campobasso', 'Carrara', 'Caserta', 'Catania', 'Catanzaro', 'Como', 'Cosenza', 'Cremona', 'Ferrara', 'Firenze', 'Foggia', 'Forlì', 'Genova', 'La Spezia', 'Latina', 'Lecce', 'Lecco', 'Livorno', 'Massa', 'Messina', 'Milano', 'Modena', 'Napoli', 'Novara', 'Padova', 'Palermo', 'Parma', 'Pavia', 'Perugia', 'Pesaro', 'Pescara', 'Piacenza', 'Pisa', 'Pordenone', 'Potenza', 'Prato', 'Ravenna', 'Reggio di Calabria', \"Reggio nell'Emilia\", 'Rimini', 'Roma', 'Salerno', 'Sanremo', 'Sassari', 'Savona', 'Siracusa', 'Taranto', 'Terni', 'Torino', 'Trento', 'Treviso', 'Trieste', 'Udine', 'Varese', 'Venezia', 'Verona', 'Viareggio', 'Vicenza', 'Vigevano', 'Kaunas', 'Klaipeda', 'Panevežys', 'Šiauliai', 'Vilnius', 'Luxembourg', 'Liepaja', 'Riga', 'Valletta', 'Amsterdam', 'Apeldoorn', 'Breda', 'Dordrecht', 'Eindhoven', 'Enschede', 'Groningen', 'Haarlem', 'Heerlen', 'Hilversum', 'Leiden', 'Nijmegen', 'Rotterdam', \"'s-Gravenhage\", 'Utrecht', 'Bergen', 'Kristiansand', 'Oslo', 'Stavanger', 'Tromsø', 'Trondheim', 'Bialystok', 'Bielsko-Biala', 'Bydgoszcz', 'Chelm', 'Czestochowa', 'Elblag', 'Elk', 'Gdansk', 'Gdynia', 'Glogów', 'Gniezno', 'Górnoslaski Zwiazek Metropolitalny', 'Gorzów Wielkopolski', 'Grudziadz', 'Inowroclaw', 'Jastrzebie-Zdrój', 'Jelenia Góra', 'Kalisz', 'Kielce', 'Konin', 'Koszalin', 'Kraków', 'Legnica', 'Leszno', 'Lódz', 'Lomza', 'Lubin', 'Lublin', 'Nowy Sacz', 'Olsztyn', 'Opole', 'Ostrów Wielkopolski', 'Pabianice', 'Pila', 'Piotrków Trybunalski', 'Plock', 'Poznan', 'Przemysl', 'Radom', 'Rybnik', 'Rzeszów', 'Siedlce', 'Slupsk', 'Stalowa Wola', 'Stargard Szczecinski', 'Suwalki', 'Swidnica', 'Szczecin', 'Tarnów', 'Tczew', 'Tomaszów Mazowiecki', 'Torun', 'Walbrzych', 'Warszawa', 'Wloclawek', 'Wroclaw', 'Zamosc', 'Zgierz', 'Zielona Góra', 'Zory', 'Aveiro', 'Braga', 'Coimbra', 'Faro', 'Funchal', 'Guimarães', 'Lisboa', 'Paredes', 'Porto', 'Setúbal', 'Sintra', 'Vila Franca de Xira', 'Alba Iulia', 'Arad', 'Bacau', 'Baia Mare', 'Bistrita', 'Botosani', 'Braila', 'Brasov', 'Bucuresti', 'Buzau', 'Calarasi', 'Cluj-Napoca', 'Constanta', 'Craiova', 'Galati', 'Giurgiu', 'Iasi', 'Oradea', 'Piatra Neamt', 'Pitesti', 'Ploiesti', 'Râmnicu Vâlcea', 'Satu Mare', 'Sibiu', 'Suceava', 'Târgu Mures', 'Timisoara', 'Tulcea', 'Borås', 'Göteborg', 'Helsingborg', 'Jönköping', 'Linköping', 'Lund', 'Malmö', 'Norrköping', 'Örebro', 'Stockholm', 'Umeå', 'Uppsala', 'Västerås', 'Ljubljana', 'Maribor', 'Banská Bystrica', 'Bratislava', 'Košice', 'Nitra', 'Prešov', 'Trencín', 'Trnava', 'Žilina']\n"
     ]
    }
   ],
   "source": [
    "supported_cities = eea.get_supported_cities()\n",
    "print(supported_cities)"
   ]
  },
  {
   "cell_type": "code",
   "execution_count": 33,
   "metadata": {},
   "outputs": [
    {
     "name": "stdout",
     "output_type": "stream",
     "text": [
      "['AT', 'BE', 'BG', 'CH', 'CY', 'CZ', 'DE', 'DK', 'EE', 'ES', 'FI', 'FR', 'GB', 'GR', 'HR', 'HU', 'IE', 'IS', 'IT', 'LT', 'LU', 'LV', 'MT', 'NL', 'NO', 'PL', 'PT', 'RO', 'SE', 'SI', 'SK', 'AD', 'AL', 'BA', 'GI', 'ME', 'MK', 'RS', 'TR', 'XK']\n"
     ]
    }
   ],
   "source": [
    "supported_countries = eea.get_supported_countries()\n",
    "print(supported_countries)"
   ]
  },
  {
   "cell_type": "code",
   "execution_count": null,
   "metadata": {},
   "outputs": [],
   "source": []
  },
  {
   "cell_type": "code",
   "execution_count": 7,
   "metadata": {},
   "outputs": [
    {
     "data": {
      "text/plain": [
       "[2013, 2014, 2015, 2016, 2017, 2018, 2019, 2020, 2021]"
      ]
     },
     "execution_count": 7,
     "metadata": {},
     "output_type": "execute_result"
    }
   ],
   "source": [
    "supported_years = eea.get_supported_years()\n",
    "supported_years"
   ]
  },
  {
   "cell_type": "code",
   "execution_count": null,
   "metadata": {},
   "outputs": [],
   "source": []
  },
  {
   "cell_type": "code",
   "execution_count": 34,
   "metadata": {},
   "outputs": [
    {
     "name": "stdout",
     "output_type": "stream",
     "text": [
      "{1: 'SO2', 3: 'SA', 4: 'SPM', 5: 'PM10', 6: 'BS', 7: 'O3', 8: 'NO2', 9: 'NOX as NO2', 10: 'CO', 11: 'H2S', 12: 'Pb', 13: 'Hg', 14: 'Cd', 15: 'Ni', 16: 'Cr', 17: 'Mn', 18: 'As', 19: 'CS2', 20: 'C6H6', 21: 'C6H5-CH3', 22: 'C6H5-CH=CH2', 23: 'CH2=CH-CN', 24: 'CH2=CH-CH=CH2', 25: 'HCHO', 26: 'CHCl=CCl2', 27: 'C2Cl4', 28: 'CH2Cl2', 29: 'BaP', 30: 'PAH', 31: 'VC', 32: 'THC (NM)', 33: 'T-VOC', 34: 'PAN', 35: 'NH3', 36: 'N-DEP', 37: 'S-DEP', 38: 'NO', 39: 'HCl', 40: 'HF', 41: 'CH4', 42: 'C6H5OH', 45: 'NH4', 46: 'NO3', 47: 'SO4 (H2SO4 aerosols) (SO4--)', 48: 'Se', 49: 'V', 50: 'HNO3', 51: 'HC C2-C6(excl. AROM. & CHLH)', 52: 'HC > C6 (excl. AROM. & CHLH)', 53: 'Aromatics (except C6H6)', 54: 'Chlorinated hydrocarbons', 62: 'Fluor (except HF)', 63: 'Zn', 64: 'Co', 65: 'Fe', 66: 'Back scattering', 67: 'HNO3+NO3', 68: 'NH3+NH4', 69: 'Radioactivity', 71: 'CO2', 73: 'Cu', 78: 'C6H4-(CH3)2', 80: 'p-C6H4(CH3)2', 81: 'm-C6H4-(CH3)2', 82: 'trans-H3C-HC=CH-CH2-CH3', 83: 'cis-H3C-HC=CH-CH2-CH3', 302: 'CFC-11', 303: 'CFC-113', 304: 'CFC-12', 307: 'HCFC-123', 308: 'HCFC-22', 309: '1-methylnaphtalene', 310: '1-methylphenanthrene', 311: 'Methyletylketone (MEK)', 312: 'Crotonaldehyde', 313: '2-methylanthracene', 314: '2-methylbenzaldehyde', 315: '2-methylnaphtalene', 316: '(CH3)2-CH-CH2-CH2-CH3', 317: '2-methylphenanthrene', 318: 'Methacroleine', 319: 'Methylglyoxal', 320: 'Acroleine', 321: 'Methylvinylketone (MVK)', 322: '3-methylbenzaldehyde', 323: '3-methylpentane', 324: '4-methylbenzaldehyde', 326: 'NOy', 330: 'PCB-105', 333: 'PCB-128', 336: 'PCB-149', 339: 'PCB-156', 340: 'PCB-177', 341: 'PCB-18', 344: 'PCB-26', 347: 'PCB-31', 348: 'PCB-44', 351: 'Acenaphthene', 352: 'Acenaphtylene', 356: 'Aldrin', 364: 'Anthanthrene', 372: 'Benzaldehyde', 373: 'Benzo(a)fluoranthene', 374: 'C8H8O', 380: 'Benzo(b+j+k)fluoranthenes', 381: 'Benzo(e)pyrene', 390: 'Biphenyl', 391: 'Black Carbon', 393: 'Butanales', 394: 'H3C-CH2-CH2-CH3', 395: 'Butenes', 396: 'Methacroleine + Butanal', 401: 'Carbon-tetrachloride', 406: 'Chrysene', 412: 'k', 415: 'Coronene', 416: 'Cyclo-hexane', 417: 'Cyklopenta(cd)pyrene', 418: 'Dibenzo(ac+ah)anthracenes', 419: 'Dibenzo(ah)anthracene', 420: 'Dibenzofuran', 421: 'Dibenzothiophene', 425: 'N2O', 426: 'Endrin', 427: 'Acetaldehyde', 428: 'C2H6', 429: 'Glyoxal', 430: 'H2C=CH2', 431: 'C6H5-C2H5', 432: 'HC=CH', 433: 'C9H12', 434: 'C9H12', 435: 'Fluorene', 438: 'Halon 1211', 439: 'Halon 1301', 440: 'Heptachlor', 441: 'C7H16', 442: 'n-Hexanal', 443: 'C6H14', 447: 'H3C-CH(CH3)2', 448: 'i-Heptane', 449: '(CH3)3-C-CH2-CH-(CH3)2', 450: 'H3C-CH2-CH(CH3)2', 451: 'CH2=CH-C(CH3)=CH2', 453: 'C6H4Cl2', 454: 'C9H20', 455: 'C2Cl4', 456: 'Tetrachloromethane (air)', 457: 'Chlorobenzene (air)', 458: '1,1,2-trichloroethane (air)', 459: '1,1-dichloroethane (air)', 460: '1,2-dichloroethylene (air)', 461: '1,2-dichloroethane (air)', 462: '1,1,1-trichloroethane (air)', 463: 'Methyl-chloroform', 464: 'm,p-C6H4(CH3)2', 465: 'Naphtalene', 466: 'Neo-hexane', 467: 'Neo-pentane', 475: 'C8H18', 482: 'o-C6H4-(CH3)2', 485: 'Valeraldehyde', 486: 'H3C-(CH2)3-CH3', 487: 'Pentenes', 488: 'Perylene', 491: 'Acetophenone', 501: 'C4H8O', 502: 'Propanal', 503: 'H3C-CH2-CH3', 504: 'Acetone', 505: 'CH2=CH-CH3', 506: 'CH2=CH-CH3 + H3C-CH2-CH2-CH3', 507: 'H3C-(CH2)3-CH3 + H3C-CH2-CH(CH3)2', 508: 'Retene', 509: 'Acetone + Acrolein', 517: 'sum-PCB', 520: 'SO2 + SO4--', 601: '3-methylphenantrene', 602: '9-methylphenantrene', 604: 'Al', 605: 'Al', 606: 'Anthracene', 607: 'Anthracene', 608: 'Anthracene', 609: 'Benzo(a)anthracene', 610: 'Benzo(a)anthracene', 611: 'Benzo(a)anthracene', 613: 'Benzo(a)fluorene', 616: 'Benzo(b)fluoranthene', 617: 'Benzo(b)fluoranthene', 618: 'Benzo(b)fluoranthene', 619: 'Benzo(b)fluorene', 620: 'Benzo(ghi)fluoranthene', 621: 'Benzo(ghi)fluoranthene', 622: 'Benzo(ghi)perylene', 623: 'Benzo(ghi)perylene', 624: 'Benzo(ghi)perylene', 625: 'Benzo(k)fluoranthene', 626: 'Benzo(k)fluoranthene', 627: 'Benzo(k)fluoranthene', 629: 'Ca++', 630: 'Ca++', 631: 'Cl-', 632: 'Cl-', 633: 'Dibenz(ac+ah)anthracenes', 634: 'Dibenz(ac+ah)anthracenes', 635: 'Dibenz(ah)anthracene', 636: 'Dibenzo(ae)pyrene', 637: 'Dibenzo(ah)pyrene', 638: 'Dibenzo(ai)pyrene', 639: 'Dibenzo(ai)pyrene', 640: 'Dieldrin', 641: 'Dieldrin', 643: 'Fluoranthene', 644: 'Fluoranthene', 645: 'Fluoranthene', 648: 'H+', 649: 'HCB', 650: 'HCB', 652: 'Heptachlor Epoxide', 653: 'Hg-reactive', 654: 'Indeno-(1,2,3-cd)pyrene', 655: 'Indeno-(1,2,3-cd)pyrene', 656: 'Indeno-(1,2,3-cd)pyrene', 657: 'K+', 658: 'K+', 659: 'Mg++', 660: 'Mg++', 661: 'Mo', 664: 'NH4+', 666: 'NO3-', 667: 'Kj-N', 668: 'Na+', 669: 'Na+', 670: 'PCB-101', 671: 'PCB-101', 672: 'PCB-101', 673: 'PCB-114', 674: 'PCB-118', 675: 'PCB-118', 676: 'PCB-118', 677: 'PCB-138', 678: 'PCB-138', 679: 'PCB-141', 680: 'PCB-153', 681: 'PCB-153', 682: 'PCB-153', 683: 'PCB-157', 684: 'PCB-167', 685: 'PCB-170', 686: 'PCB-180', 687: 'PCB-180', 688: 'PCB-180', 689: 'PCB-183', 690: 'PCB-187', 691: 'PCB-189', 692: 'PCB-194', 693: 'PCB-206', 694: 'PCB-209', 695: 'PCB-28', 696: 'PCB-28', 697: 'PCB-28', 698: 'PCB-33', 699: 'PCB-37', 700: 'PCB-47', 701: 'PCB-52', 702: 'PCB-52', 703: 'PCB-52', 704: 'PCB-60', 705: 'PCB-66', 706: 'PCB-74', 707: 'PCB-99', 708: 'PCB_122', 709: 'PCB_123', 710: 'PCB_128', 711: 'PCB_138', 712: 'Phenanthrene', 713: 'Phenanthrene', 714: 'Phenanthrene', 715: 'Pyrene', 716: 'Pyrene', 717: 'Pyrene', 719: 'SO4--', 720: 'SO4-- corr', 723: 'TI', 728: 'Vanadium', 729: 'alpha-HCH', 730: 'alpha-HCH', 731: 'alpha-HCH', 732: 'beta-HCH', 733: 'beta-HCH', 734: 'cis-CD', 735: 'cis-CD', 736: 'cis-NO', 737: 'gamma-HCH', 738: 'gamma-HCH', 739: 'gamma-HCH', 741: \"o,p'-DDD\", 742: \"o,p'-DDE\", 743: \"o,p'-DDT\", 744: \"o,p'-DDD\", 745: \"o,p'-DDE\", 746: \"o,p'-DDT\", 747: \"p,p'-DDD\", 748: \"p,p'-DDE\", 749: \"p,p'-DDT\", 750: \"p,p'-DDD\", 751: \"p,p'-DDE\", 752: \"p,p'-DDT\", 753: 'precip_amount', 754: 'precip_amount_off', 755: 'trans-CD', 756: 'trans-CD', 757: 'trans-NO', 758: 'trans_NO', 759: 'Benzo(j)fluoranthene', 760: 'Benzo(j)fluoranthene', 761: 'Benzo(j)fluorene', 762: 'Benzo(j)fluoranthene', 763: 'Dibenzo(ah)anthracene', 771: 'EC', 772: 'OC', 773: 'alpha-Endosulfan', 774: 'beta-Endosulfan', 775: 'Endosulfan sulfate', 776: 'DCMU', 777: 'Atrazine', 778: 'Isoproturon', 779: 'Heptachlor', 780: 'Aldrin', 1012: 'Pb in PM2.5', 1013: 'Hg in PM2.5', 1014: 'Cd in PM2.5', 1015: 'Ni in PM2.5', 1016: 'Cr in PM2.5', 1017: 'Mn in PM2.5', 1018: 'As in PM2.5', 1029: 'BaP in PM2.5', 1045: 'NH4+ in PM2.5', 1046: 'NO3- in PM2.5', 1047: 'SO42- in PM2.5', 1048: 'Se in PM2.5', 1049: 'V in PM2.5', 1063: 'Zn in PM2.5', 1064: 'Co in PM2.5', 1065: 'Fe in PM2.5', 1073: 'Cu in PM2.5', 1129: 'BaP in PM2.5', 1419: 'Dibenzo(ah)anthracene in PM2.5', 1610: 'Benzo(a)anthracene in PM2.5', 1617: 'Benzo(b)fluoranthene in PM2.5', 1626: 'Benzo(k)fluoranthene in PM2.5', 1629: 'Ca2+ in PM2.5', 1631: 'Cl- in PM2.5', 1655: 'Indeno-(1,2,3-cd)pyrene in PM2', 1657: 'K+ in PM2.5', 1659: 'Mg2+ in PM2.5', 1668: 'Na+  in PM2.5', 1759: 'Benzo(j)fluoranthene in PM2.5', 1771: 'EC in PM2.5', 1772: 'OC in PM2.5', 2012: 'Pb', 2013: 'Hg', 2014: 'Cd', 2015: 'Ni', 2016: 'Cr', 2017: 'Mn', 2018: 'As', 2063: 'Zn', 2064: 'Co', 2065: 'Fe', 2073: 'Cu', 2076: 'pH', 2380: 'Benzo(b,j,k)fluoranthene', 2770: 'PO43-', 2771: 'TP', 2861: 'PFBA', 2862: 'PFPeA', 2863: 'PFHxA', 2864: 'PFHpA', 2865: 'PFOA', 2866: 'PFNA', 2867: 'PFDA', 2868: 'PFUnDA', 2871: 'PFBS', 2872: 'PFHxS', 2873: 'PFOSA', 2874: '6:2-FTS', 2875: 'PFOS', 2876: 'PFDS', 3012: 'Pb in TSP', 3013: 'Hg in TSP', 3014: 'Cd in TSP', 3015: 'Ni in TSP', 3016: 'Cr in TSP', 3017: 'Mn in TSP', 3018: 'As in TSP', 3063: 'Zn in TSP', 3073: 'Cu in TSP', 3631: 'Cl- in TSP', 3668: 'Na+  in TSP', 4013: 'Hg0', 4330: 'PCB-105', 4336: 'PCB-149', 4339: 'PCB-156', 4341: 'PCB-18', 4347: 'PCB-31', 4406: 'Chrysene', 4407: 'Chrysene + Triphenylene', 4813: 'Hg0 + Hg-reactive', 4821: 'TCDD', 4822: 'CDD1N', 4823: 'CDD4X', 4824: 'CDD6X', 4825: 'CDD9X', 4826: 'CDD6P', 4827: 'CDDO', 4841: 'CDF2T', 4842: 'CDFDN', 4843: 'CDF2N', 4844: 'CDFDX', 4845: 'CDF6X', 4846: 'CDF9X', 4847: 'CDF4X', 4848: 'CDF6P', 4849: 'CDF9P', 4850: 'CDFO', 4851: 'CDFX1', 4852: 'CDFP2', 4861: 'PFBA', 4862: 'PFPeA', 4863: 'PFHxA', 4864: 'PFHpA', 4865: 'PFOA', 4866: 'PFNA', 4867: 'PFDA', 4868: 'PFUnDA', 4871: 'PFBS', 4872: 'PFHxS', 4873: 'PFOSA', 4874: '6:2-FTS', 4875: 'PFOS', 4876: 'PFDS', 4901: 'BDE47', 4902: 'BDE85', 4903: 'BDE99', 4904: 'BDE100', 4905: 'BDE153', 4906: 'BDE154', 4907: 'BDE209', 4908: 'SCCP', 4909: 'MCCP', 4910: 'HBCD', 4911: 'HBB', 4912: 'PBT', 4913: 'PBEB', 4914: 'α-DBE-DBCH', 4915: 'β-DBE-DBCH', 4916: 'BEH-TEBP', 4917: 'BTBPT', 4918: 'EH-TBB', 4919: 'Syn-DP', 4920: 'Anti-DP', 4921: 'DBDPE', 4922: 'TBP', 5012: 'Pb in PM10', 5013: 'Hg in PM10', 5014: 'Cd in PM10', 5015: 'Ni in PM10', 5016: 'Cr in PM10', 5017: 'Mn in PM10', 5018: 'As in PM10', 5029: 'BaP in PM10', 5045: 'NH4+ in PM10', 5046: 'NO3- in PM10', 5047: 'SO42-  in PM10', 5048: 'Se in PM10', 5049: 'V in PM10', 5060: 'Sn in PM10', 5063: 'Zn in PM10', 5064: 'Co in PM10', 5065: 'Fe in PM10', 5073: 'Cu in PM10', 5129: 'BaP in PM10', 5301: '1-Methyl anthracene in PM10', 5364: 'Anthanthrene in PM10', 5380: 'Benzo(b,j,k)fluorantheneInPM1', 5381: 'Benzo(e)pyrene in PM10', 5406: 'Chrysene in PM10', 5415: 'Coronene in PM10', 5417: 'Cyclopenta(c,d)pyrene in PM10', 5418: 'Dibenzo(ac+ah)anthracene in PM10', 5419: 'Dibenzo(ah)anthracene in PM10', 5480: 'Benzo(b,j)fluorantheneinPM10', 5488: 'Perylene in PM10', 5521: '4.5-Methylene phenanthrene in PM10', 5522: '5-Methyl Chrysene in PM10', 5523: '9-Methyl anthracene in PM10', 5524: 'Benzo(b)naphtho(2,1-d)thiophene in PM10', 5525: 'Benzo(c)phenanthrene in PM10', 5526: 'Cholanthrene in PM10', 5527: 'Dibenzo(ac)anthracene in PM10', 5528: 'Dibenzo(al)pyrene in PM10', 5580: 'Benzo(b+j)fluoranthene in PM10', 5606: 'Anthracene in PM10 (aerosol)', 5609: 'Benzo(a)anthracene in PM10', 5610: 'Benzo(a)anthracene in PM10', 5616: 'Benzo(b)fluoranthene in PM10', 5617: 'Benzo(b)fluoranthene in PM10', 5622: '5-Methyl Chrysene in PM10', 5623: 'Benzo(ghi)perylene in PM10', 5624: 'Benzo(b)naphtho(2,1-d)thiophene in PM10', 5625: 'Benzo(k)fluoranthene in PM10', 5626: 'Benzo(k)fluoranthene in PM10', 5627: 'Dibenzo(ac)anthracene in PM10', 5628: 'Dibenzo(al)pyrene in PM10', 5629: 'Ca2+ in PM10', 5631: 'Cl- in PM10', 5633: 'Dibenzo(ah+ac)anthracene in PM10', 5636: 'Dibenzo(ae)pyrene in PM10', 5637: 'Dibenzo(ah)pyrene in PM10', 5639: 'Dibenzo(ai)pyrene in PM10', 5643: 'Fluoranthene in PM10 (aerosol)', 5654: 'Indeno-(1,2,3-cd)pyrene in PM', 5655: 'Indeno-(1,2,3-cd)pyrene in PM', 5657: 'K+ in PM10', 5659: 'Mg2+ in PM10', 5668: 'Na+  in PM10', 5712: 'Phenanthrene in PM10 (aerosol)', 5715: 'Pyrene in PM10 (aerosol)', 5725: 'Benzo(c)phenanthrene in PM10', 5733: 'Dibenzo(ah+ac)anthracene in PM10', 5759: 'Benzo(j)fluoranthene in PM10', 5762: 'Benzo(j)fluoranthene in PM10', 5763: 'Dibenzo(ah)anthracene in PM10', 5771: 'EC in PM10', 5772: 'OC in PM10', 6001: 'PM2.5', 6002: 'PM1', 6005: 'H2C=CH-CH2-CH3', 6006: 'trans-H3C-CH=CH-CH3', 6007: 'cis-H3C-CH=CH-CH3', 6008: 'H2C=CH-CH2-CH2-CH3', 6009: 'H3C-HC=CH-CH2-CH3', 6011: '1,2,4-C6H3(CH3)3', 6012: '1,2,3-C6H3(CH3)3', 6013: '1,3,5-C6H3(CH3)3', 6015: 'BaP', 6016: 'C6H12', 6017: 'C6H12O2', 6380: 'Benzo(b,j,k)fluorantheneInPM1', 6400: 'VPM10', 6401: 'NVPM10', 6410: 'VPM2.5', 6411: 'NVPM2.5', 6420: 'VPM1', 6421: 'NVPM1', 7012: 'Pb', 7013: 'Hg', 7014: 'Cd', 7015: 'Ni', 7016: 'Cr', 7018: 'As', 7029: 'BaP', 7063: 'Zn', 7073: 'Cu', 7301: '1-Methyl anthracene', 7309: '1-Methyl Naphthalene', 7310: '1-Methyl phenanthrene', 7313: '2-Methyl anthracene', 7315: '2-Methyl Naphthalene', 7317: '2-Methyl phenanthrene', 7351: 'Acenaphthene', 7352: 'Acenaphthylene', 7364: 'Anthanthrene', 7380: 'Benzo(b,j,k)fluoranthene', 7381: 'Benzo(e)pyrene', 7390: 'Biphenyl', 7406: 'Chrysene', 7407: 'Chrysene + Triphenylene', 7415: 'Coronene', 7417: 'Cyclopenta(c,d)pyrene', 7418: 'Dibenzo(ah+ac)anthracene', 7419: 'Dibenzo(ah)anthracene', 7435: 'Fluorene', 7465: 'Naphthalene', 7480: 'Benzo(b+j)fluoranthene', 7488: 'Perylene', 7521: '4.5-Methylene phenanthrene', 7522: '5-Methyl Chrysene', 7523: '9-Methyl anthracene', 7524: 'Benzo(b)naphtho(2,1-d)thiophene', 7525: 'Benzo(c)phenanthrene', 7526: 'Cholanthrene', 7527: 'Dibenzo(ac)anthracene', 7528: 'Dibenzo(al)pyrene', 7636: 'Dibenzo(ae)pyrene', 7637: 'Dibenzo(ah)pyrene', 7639: 'Dibenzo(ai)pyrene', 7640: 'Dieldrin', 7734: 'cis-CD', 7750: \"p,p'-DDD\", 7751: \"p,p'-DDE\", 7752: \"p,p'-DDT\", 7755: 'trans-CD', 7757: 'trans-NO', 7773: 'alpha-Endosulfan', 7774: 'beta-Endosulfan', 7775: 'Endosulfan sulfate', 7776: 'DCMU', 7777: 'Atrazine', 7778: 'Isoproturon', 7779: 'Heptachlor', 7780: 'Aldrin', 7781: 'HCB', 7821: 'TCDD', 7822: 'CDD1N', 7823: 'CDD4X', 7824: 'CDD6X', 7825: 'CDD9X', 7826: 'CDD6P', 7827: 'CDDO', 7841: 'CDF2T', 7842: 'CDFDN', 7843: 'CDF2N', 7844: 'CDFDX', 7845: 'CDF6X', 7846: 'CDF9X', 7847: 'CDF4X', 7848: 'CDF6P', 7849: 'CDF9P', 7850: 'CDFO', 7851: 'CDFX1', 7852: 'CDFP2', 7901: 'BDE47', 7902: 'BDE85', 7903: 'BDE99', 7904: 'BDE100', 7905: 'BDE153', 7906: 'BDE154', 7907: 'BDE209', 7908: 'SCCP', 7909: 'MCCP', 7910: 'HBCD'}\n"
     ]
    }
   ],
   "source": [
    "supported_pollutants_dict = eea.get_supported_pollutants_dict()\n",
    "print(supported_pollutants_dict)"
   ]
  },
  {
   "cell_type": "code",
   "execution_count": 35,
   "metadata": {},
   "outputs": [
    {
     "name": "stdout",
     "output_type": "stream",
     "text": [
      "{'SO2': 1, 'CO': 10, 'Pb in PM2.5': 1012, 'Hg in PM2.5': 1013, 'Cd in PM2.5': 1014, 'Ni in PM2.5': 1015, 'Cr in PM2.5': 1016, 'Mn in PM2.5': 1017, 'As in PM2.5': 1018, 'NH4+ in PM2.5': 1045, 'NO3- in PM2.5': 1046, 'SO42- in PM2.5': 1047, 'Se in PM2.5': 1048, 'V in PM2.5': 1049, 'Zn in PM2.5': 1063, 'Co in PM2.5': 1064, 'Fe in PM2.5': 1065, 'Cu in PM2.5': 1073, 'H2S': 11, 'Dibenzo(ah)anthracene in PM2.5': 1419, 'Benzo(a)anthracene in PM2.5': 1610, 'Benzo(b)fluoranthene in PM2.5': 1617, 'Benzo(k)fluoranthene in PM2.5': 1626, 'Ca2+ in PM2.5': 1629, 'Cl- in PM2.5': 1631, 'Indeno-(1,2,3-cd)pyrene in PM2': 1655, 'K+ in PM2.5': 1657, 'Mg2+ in PM2.5': 1659, 'Na+  in PM2.5': 1668, 'Benzo(j)fluoranthene in PM2.5': 1759, 'EC in PM2.5': 1771, 'OC in PM2.5': 1772, 'CS2': 19, 'C6H6': 20, 'pH': 2076, 'C6H5-CH3': 21, 'C6H5-CH=CH2': 22, 'CH2=CH-CN': 23, 'CH2=CH-CH=CH2': 24, 'HCHO': 25, 'CHCl=CCl2': 26, 'PO43-': 2770, 'TP': 2771, 'CH2Cl2': 28, 'SA': 3, 'PAH': 30, 'Pb in TSP': 3012, 'Hg in TSP': 3013, 'Cd in TSP': 3014, 'Ni in TSP': 3015, 'Cr in TSP': 3016, 'Mn in TSP': 3017, 'As in TSP': 3018, 'CFC-11': 302, 'CFC-113': 303, 'CFC-12': 304, 'Zn in TSP': 3063, 'HCFC-123': 307, 'Cu in TSP': 3073, 'HCFC-22': 308, '1-methylnaphtalene': 309, 'VC': 31, '1-methylphenanthrene': 310, 'Methyletylketone (MEK)': 311, 'Crotonaldehyde': 312, '2-methylanthracene': 313, '2-methylbenzaldehyde': 314, '2-methylnaphtalene': 315, '(CH3)2-CH-CH2-CH2-CH3': 316, '2-methylphenanthrene': 317, 'Methacroleine': 318, 'Methylglyoxal': 319, 'THC (NM)': 32, 'Acroleine': 320, 'Methylvinylketone (MVK)': 321, '3-methylbenzaldehyde': 322, '3-methylpentane': 323, '4-methylbenzaldehyde': 324, 'NOy': 326, 'T-VOC': 33, 'PCB-128': 333, 'PAN': 34, 'PCB-177': 340, 'PCB-26': 344, 'PCB-44': 348, 'NH3': 35, 'Acenaphtylene': 352, 'N-DEP': 36, 'Cl- in TSP': 3631, 'Na+  in TSP': 3668, 'S-DEP': 37, 'Benzaldehyde': 372, 'Benzo(a)fluoranthene': 373, 'C8H8O': 374, 'NO': 38, 'Benzo(b+j+k)fluoranthenes': 380, 'HCl': 39, 'Black Carbon': 391, 'Butanales': 393, 'H3C-CH2-CH2-CH3': 394, 'Butenes': 395, 'Methacroleine + Butanal': 396, 'SPM': 4, 'HF': 40, 'Carbon-tetrachloride': 401, 'Hg0': 4013, 'CH4': 41, 'k': 412, 'Cyclo-hexane': 416, 'Cyklopenta(cd)pyrene': 417, 'Dibenzo(ac+ah)anthracenes': 418, 'C6H5OH': 42, 'Dibenzofuran': 420, 'Dibenzothiophene': 421, 'N2O': 425, 'Endrin': 426, 'Acetaldehyde': 427, 'C2H6': 428, 'Glyoxal': 429, 'H2C=CH2': 430, 'C6H5-C2H5': 431, 'HC=CH': 432, 'Halon 1211': 438, 'Halon 1301': 439, 'C7H16': 441, 'n-Hexanal': 442, 'C6H14': 443, 'H3C-CH(CH3)2': 447, 'i-Heptane': 448, '(CH3)3-C-CH2-CH-(CH3)2': 449, 'NH4': 45, 'H3C-CH2-CH(CH3)2': 450, 'CH2=CH-C(CH3)=CH2': 451, 'C6H4Cl2': 453, 'C9H20': 454, 'Tetrachloromethane (air)': 456, 'Chlorobenzene (air)': 457, '1,1,2-trichloroethane (air)': 458, '1,1-dichloroethane (air)': 459, 'NO3': 46, '1,2-dichloroethylene (air)': 460, '1,2-dichloroethane (air)': 461, '1,1,1-trichloroethane (air)': 462, 'Methyl-chloroform': 463, 'm,p-C6H4(CH3)2': 464, 'Naphtalene': 465, 'Neo-hexane': 466, 'Neo-pentane': 467, 'SO4 (H2SO4 aerosols) (SO4--)': 47, 'C8H18': 475, 'Se': 48, 'Hg0 + Hg-reactive': 4813, 'o-C6H4-(CH3)2': 482, 'Valeraldehyde': 485, 'H3C-(CH2)3-CH3': 486, 'Pentenes': 487, 'V': 49, 'Acetophenone': 491, 'HBB': 4911, 'PBT': 4912, 'PBEB': 4913, 'α-DBE-DBCH': 4914, 'β-DBE-DBCH': 4915, 'BEH-TEBP': 4916, 'BTBPT': 4917, 'EH-TBB': 4918, 'Syn-DP': 4919, 'Anti-DP': 4920, 'DBDPE': 4921, 'TBP': 4922, 'PM10': 5, 'HNO3': 50, 'C4H8O': 501, 'Pb in PM10': 5012, 'Hg in PM10': 5013, 'Cd in PM10': 5014, 'Ni in PM10': 5015, 'Cr in PM10': 5016, 'Mn in PM10': 5017, 'As in PM10': 5018, 'Propanal': 502, 'H3C-CH2-CH3': 503, 'Acetone': 504, 'NH4+ in PM10': 5045, 'NO3- in PM10': 5046, 'SO42-  in PM10': 5047, 'Se in PM10': 5048, 'V in PM10': 5049, 'CH2=CH-CH3': 505, 'CH2=CH-CH3 + H3C-CH2-CH2-CH3': 506, 'Sn in PM10': 5060, 'Zn in PM10': 5063, 'Co in PM10': 5064, 'Fe in PM10': 5065, 'H3C-(CH2)3-CH3 + H3C-CH2-CH(CH3)2': 507, 'Cu in PM10': 5073, 'Retene': 508, 'Acetone + Acrolein': 509, 'HC C2-C6(excl. AROM. & CHLH)': 51, 'sum-PCB': 517, 'HC > C6 (excl. AROM. & CHLH)': 52, 'SO2 + SO4--': 520, 'Aromatics (except C6H6)': 53, '1-Methyl anthracene in PM10': 5301, 'Anthanthrene in PM10': 5364, 'Benzo(e)pyrene in PM10': 5381, 'Chlorinated hydrocarbons': 54, 'Chrysene in PM10': 5406, 'Coronene in PM10': 5415, 'Cyclopenta(c,d)pyrene in PM10': 5417, 'Dibenzo(ac+ah)anthracene in PM10': 5418, 'Benzo(b,j)fluorantheneinPM10': 5480, 'Perylene in PM10': 5488, '4.5-Methylene phenanthrene in PM10': 5521, '9-Methyl anthracene in PM10': 5523, 'Cholanthrene in PM10': 5526, 'Benzo(b+j)fluoranthene in PM10': 5580, 'Anthracene in PM10 (aerosol)': 5606, 'Benzo(ghi)perylene in PM10': 5623, 'Ca2+ in PM10': 5629, 'Cl- in PM10': 5631, 'Dibenzo(ae)pyrene in PM10': 5636, 'Dibenzo(ah)pyrene in PM10': 5637, 'Dibenzo(ai)pyrene in PM10': 5639, 'Fluoranthene in PM10 (aerosol)': 5643, 'K+ in PM10': 5657, 'Mg2+ in PM10': 5659, 'Na+  in PM10': 5668, 'Phenanthrene in PM10 (aerosol)': 5712, 'Pyrene in PM10 (aerosol)': 5715, 'EC in PM10': 5771, 'OC in PM10': 5772, 'BS': 6, 'PM2.5': 6001, 'PM1': 6002, 'H2C=CH-CH2-CH3': 6005, 'trans-H3C-CH=CH-CH3': 6006, 'cis-H3C-CH=CH-CH3': 6007, 'H2C=CH-CH2-CH2-CH3': 6008, 'H3C-HC=CH-CH2-CH3': 6009, '3-methylphenantrene': 601, '1,2,4-C6H3(CH3)3': 6011, '1,2,3-C6H3(CH3)3': 6012, '1,3,5-C6H3(CH3)3': 6013, 'C6H12': 6016, 'C6H12O2': 6017, '9-methylphenantrene': 602, 'Benzo(a)fluorene': 613, 'Benzo(b)fluorene': 619, 'Fluor (except HF)': 62, 'Dibenz(ah)anthracene': 635, 'VPM10': 6400, 'NVPM10': 6401, 'VPM2.5': 6410, 'NVPM2.5': 6411, 'VPM1': 6420, 'NVPM1': 6421, 'H+': 648, 'Heptachlor Epoxide': 652, 'Hg-reactive': 653, 'Back scattering': 66, 'Mo': 661, 'NH4+': 664, 'NO3-': 666, 'Kj-N': 667, 'HNO3+NO3': 67, 'PCB-114': 673, 'PCB-141': 679, 'NH3+NH4': 68, 'PCB-157': 683, 'PCB-167': 684, 'PCB-170': 685, 'PCB-183': 689, 'Radioactivity': 69, 'PCB-187': 690, 'PCB-189': 691, 'PCB-194': 692, 'PCB-206': 693, 'PCB-209': 694, 'PCB-33': 698, 'PCB-37': 699, 'O3': 7, 'PCB-47': 700, 'PCB-60': 704, 'PCB-66': 705, 'PCB-74': 706, 'PCB-99': 707, 'PCB_122': 708, 'PCB_123': 709, 'CO2': 71, 'PCB_128': 710, 'PCB_138': 711, 'SO4--': 719, 'SO4-- corr': 720, 'TI': 723, 'Vanadium': 728, '1-Methyl anthracene': 7301, '1-Methyl Naphthalene': 7309, '1-Methyl phenanthrene': 7310, '2-Methyl anthracene': 7313, '2-Methyl Naphthalene': 7315, '2-Methyl phenanthrene': 7317, 'Acenaphthylene': 7352, 'cis-NO': 736, 'Cyclopenta(c,d)pyrene': 7417, 'Dibenzo(ah+ac)anthracene': 7418, 'Naphthalene': 7465, 'Benzo(b+j)fluoranthene': 7480, '4.5-Methylene phenanthrene': 7521, '5-Methyl Chrysene': 7522, '9-Methyl anthracene': 7523, 'Benzo(b)naphtho(2,1-d)thiophene': 7524, 'Benzo(c)phenanthrene': 7525, 'Cholanthrene': 7526, 'Dibenzo(ac)anthracene': 7527, 'Dibenzo(al)pyrene': 7528, 'precip_amount': 753, 'precip_amount_off': 754, 'trans_NO': 758, 'Benzo(j)fluorene': 761, 'EC': 771, 'OC': 772, 'C6H4-(CH3)2': 78, 'NO2': 8, 'p-C6H4(CH3)2': 80, 'm-C6H4-(CH3)2': 81, 'trans-H3C-HC=CH-CH2-CH3': 82, 'cis-H3C-HC=CH-CH2-CH3': 83, 'NOX as NO2': 9}\n"
     ]
    }
   ],
   "source": [
    "supported_pollutants_inverse_dict = eea.get_supported_pollutants_inverse_dict()\n",
    "print(supported_pollutants_inverse_dict)"
   ]
  },
  {
   "cell_type": "code",
   "execution_count": 10,
   "metadata": {
    "scrolled": false
   },
   "outputs": [
    {
     "name": "stdout",
     "output_type": "stream",
     "text": [
      "[1, 3, 4, 5, 6, 7, 8, 9, 10, 11, 12, 13, 14, 15, 16, 17, 18, 19, 20, 21, 22, 23, 24, 25, 26, 27, 28, 29, 30, 31, 32, 33, 34, 35, 36, 37, 38, 39, 40, 41, 42, 45, 46, 47, 48, 49, 50, 51, 52, 53, 54, 62, 63, 64, 65, 66, 67, 68, 69, 71, 73, 78, 80, 81, 82, 83, 302, 303, 304, 307, 308, 309, 310, 311, 312, 313, 314, 315, 316, 317, 318, 319, 320, 321, 322, 323, 324, 326, 330, 333, 336, 339, 340, 341, 344, 347, 348, 351, 352, 356, 364, 372, 373, 374, 380, 381, 390, 391, 393, 394, 395, 396, 401, 406, 412, 415, 416, 417, 418, 419, 420, 421, 425, 426, 427, 428, 429, 430, 431, 432, 433, 434, 435, 438, 439, 440, 441, 442, 443, 447, 448, 449, 450, 451, 453, 454, 455, 456, 457, 458, 459, 460, 461, 462, 463, 464, 465, 466, 467, 475, 482, 485, 486, 487, 488, 491, 501, 502, 503, 504, 505, 506, 507, 508, 509, 517, 520, 601, 602, 604, 605, 606, 607, 608, 609, 610, 611, 613, 616, 617, 618, 619, 620, 621, 622, 623, 624, 625, 626, 627, 629, 630, 631, 632, 633, 634, 635, 636, 637, 638, 639, 640, 641, 643, 644, 645, 648, 649, 650, 652, 653, 654, 655, 656, 657, 658, 659, 660, 661, 664, 666, 667, 668, 669, 670, 671, 672, 673, 674, 675, 676, 677, 678, 679, 680, 681, 682, 683, 684, 685, 686, 687, 688, 689, 690, 691, 692, 693, 694, 695, 696, 697, 698, 699, 700, 701, 702, 703, 704, 705, 706, 707, 708, 709, 710, 711, 712, 713, 714, 715, 716, 717, 719, 720, 723, 728, 729, 730, 731, 732, 733, 734, 735, 736, 737, 738, 739, 741, 742, 743, 744, 745, 746, 747, 748, 749, 750, 751, 752, 753, 754, 755, 756, 757, 758, 759, 760, 761, 762, 763, 771, 772, 773, 774, 775, 776, 777, 778, 779, 780, 1012, 1013, 1014, 1015, 1016, 1017, 1018, 1029, 1045, 1046, 1047, 1048, 1049, 1063, 1064, 1065, 1073, 1129, 1419, 1610, 1617, 1626, 1629, 1631, 1655, 1657, 1659, 1668, 1759, 1771, 1772, 2012, 2013, 2014, 2015, 2016, 2017, 2018, 2063, 2064, 2065, 2073, 2076, 2380, 2770, 2771, 2861, 2862, 2863, 2864, 2865, 2866, 2867, 2868, 2871, 2872, 2873, 2874, 2875, 2876, 3012, 3013, 3014, 3015, 3016, 3017, 3018, 3063, 3073, 3631, 3668, 4013, 4330, 4336, 4339, 4341, 4347, 4406, 4407, 4813, 4821, 4822, 4823, 4824, 4825, 4826, 4827, 4841, 4842, 4843, 4844, 4845, 4846, 4847, 4848, 4849, 4850, 4851, 4852, 4861, 4862, 4863, 4864, 4865, 4866, 4867, 4868, 4871, 4872, 4873, 4874, 4875, 4876, 4901, 4902, 4903, 4904, 4905, 4906, 4907, 4908, 4909, 4910, 4911, 4912, 4913, 4914, 4915, 4916, 4917, 4918, 4919, 4920, 4921, 4922, 5012, 5013, 5014, 5015, 5016, 5017, 5018, 5029, 5045, 5046, 5047, 5048, 5049, 5060, 5063, 5064, 5065, 5073, 5129, 5301, 5364, 5380, 5381, 5406, 5415, 5417, 5418, 5419, 5480, 5488, 5521, 5522, 5523, 5524, 5525, 5526, 5527, 5528, 5580, 5606, 5609, 5610, 5616, 5617, 5622, 5623, 5624, 5625, 5626, 5627, 5628, 5629, 5631, 5633, 5636, 5637, 5639, 5643, 5654, 5655, 5657, 5659, 5668, 5712, 5715, 5725, 5733, 5759, 5762, 5763, 5771, 5772, 6001, 6002, 6005, 6006, 6007, 6008, 6009, 6011, 6012, 6013, 6015, 6016, 6017, 6380, 6400, 6401, 6410, 6411, 6420, 6421, 7012, 7013, 7014, 7015, 7016, 7018, 7029, 7063, 7073, 7301, 7309, 7310, 7313, 7315, 7317, 7351, 7352, 7364, 7380, 7381, 7390, 7406, 7407, 7415, 7417, 7418, 7419, 7435, 7465, 7480, 7488, 7521, 7522, 7523, 7524, 7525, 7526, 7527, 7528, 7636, 7637, 7639, 7640, 7734, 7750, 7751, 7752, 7755, 7757, 7773, 7774, 7775, 7776, 7777, 7778, 7779, 7780, 7781, 7821, 7822, 7823, 7824, 7825, 7826, 7827, 7841, 7842, 7843, 7844, 7845, 7846, 7847, 7848, 7849, 7850, 7851, 7852, 7901, 7902, 7903, 7904, 7905, 7906, 7907, 7908, 7909, 7910]\n"
     ]
    }
   ],
   "source": [
    "supported_pollutants = eea.get_supported_pollutants()\n",
    "print(supported_pollutants)"
   ]
  },
  {
   "cell_type": "code",
   "execution_count": null,
   "metadata": {},
   "outputs": [],
   "source": []
  },
  {
   "cell_type": "code",
   "execution_count": null,
   "metadata": {},
   "outputs": [],
   "source": []
  },
  {
   "cell_type": "code",
   "execution_count": null,
   "metadata": {},
   "outputs": [],
   "source": []
  },
  {
   "cell_type": "markdown",
   "metadata": {},
   "source": [
    "# FUNCTIONS TO FILTER ONLY THE EEA SUPPORTED VALUES"
   ]
  },
  {
   "cell_type": "markdown",
   "metadata": {},
   "source": [
    "A warning is given for each non-supported value.\n",
    "\n",
    "The values are also sorted and are deleted the duplicates."
   ]
  },
  {
   "cell_type": "code",
   "execution_count": 11,
   "metadata": {},
   "outputs": [
    {
     "name": "stdout",
     "output_type": "stream",
     "text": [
      "[5, 5018, 20]\n"
     ]
    },
    {
     "name": "stderr",
     "output_type": "stream",
     "text": [
      "C:\\Users\\Enrico\\Desktop\\TirocinioTesi\\CodiceGithub\\EEA_datasets_handler.py:202: UserWarning: The pollutants ['SO', 112, 'KK'] are not supported by EEA\n",
      "  warnings.warn(\"The pollutants \"+str(pollutants_dif)+\" are not supported by EEA\")\n"
     ]
    }
   ],
   "source": [
    "pollutants = [\"PM10\", 5, \"SO\", \"As in PM10\", \"C6H6\", 112, \"KK\", 5018] # Either numeric notation or textual notation\n",
    "print(eea.keep_pollutants_supported(pollutants))"
   ]
  },
  {
   "cell_type": "markdown",
   "metadata": {},
   "source": [
    "*PM10 has 5 as numeric notation. C6H6 is 5018. And As in PM10 is 20.*"
   ]
  },
  {
   "cell_type": "markdown",
   "metadata": {},
   "source": [
    "`pollutants` can be the string \"all\": in this case all the pollutants are taken into account."
   ]
  },
  {
   "cell_type": "code",
   "execution_count": 12,
   "metadata": {},
   "outputs": [
    {
     "name": "stdout",
     "output_type": "stream",
     "text": [
      "[1, 3, 4, 5, 6, 7, 8, 9, 10, 11, 12, 13, 14, 15, 16, 17, 18, 19, 20, 21, 22, 23, 24, 25, 26, 27, 28, 29, 30, 31, 32, 33, 34, 35, 36, 37, 38, 39, 40, 41, 42, 45, 46, 47, 48, 49, 50, 51, 52, 53, 54, 62, 63, 64, 65, 66, 67, 68, 69, 71, 73, 78, 80, 81, 82, 83, 302, 303, 304, 307, 308, 309, 310, 311, 312, 313, 314, 315, 316, 317, 318, 319, 320, 321, 322, 323, 324, 326, 330, 333, 336, 339, 340, 341, 344, 347, 348, 351, 352, 356, 364, 372, 373, 374, 380, 381, 390, 391, 393, 394, 395, 396, 401, 406, 412, 415, 416, 417, 418, 419, 420, 421, 425, 426, 427, 428, 429, 430, 431, 432, 433, 434, 435, 438, 439, 440, 441, 442, 443, 447, 448, 449, 450, 451, 453, 454, 455, 456, 457, 458, 459, 460, 461, 462, 463, 464, 465, 466, 467, 475, 482, 485, 486, 487, 488, 491, 501, 502, 503, 504, 505, 506, 507, 508, 509, 517, 520, 601, 602, 604, 605, 606, 607, 608, 609, 610, 611, 613, 616, 617, 618, 619, 620, 621, 622, 623, 624, 625, 626, 627, 629, 630, 631, 632, 633, 634, 635, 636, 637, 638, 639, 640, 641, 643, 644, 645, 648, 649, 650, 652, 653, 654, 655, 656, 657, 658, 659, 660, 661, 664, 666, 667, 668, 669, 670, 671, 672, 673, 674, 675, 676, 677, 678, 679, 680, 681, 682, 683, 684, 685, 686, 687, 688, 689, 690, 691, 692, 693, 694, 695, 696, 697, 698, 699, 700, 701, 702, 703, 704, 705, 706, 707, 708, 709, 710, 711, 712, 713, 714, 715, 716, 717, 719, 720, 723, 728, 729, 730, 731, 732, 733, 734, 735, 736, 737, 738, 739, 741, 742, 743, 744, 745, 746, 747, 748, 749, 750, 751, 752, 753, 754, 755, 756, 757, 758, 759, 760, 761, 762, 763, 771, 772, 773, 774, 775, 776, 777, 778, 779, 780, 1012, 1013, 1014, 1015, 1016, 1017, 1018, 1029, 1045, 1046, 1047, 1048, 1049, 1063, 1064, 1065, 1073, 1129, 1419, 1610, 1617, 1626, 1629, 1631, 1655, 1657, 1659, 1668, 1759, 1771, 1772, 2012, 2013, 2014, 2015, 2016, 2017, 2018, 2063, 2064, 2065, 2073, 2076, 2380, 2770, 2771, 2861, 2862, 2863, 2864, 2865, 2866, 2867, 2868, 2871, 2872, 2873, 2874, 2875, 2876, 3012, 3013, 3014, 3015, 3016, 3017, 3018, 3063, 3073, 3631, 3668, 4013, 4330, 4336, 4339, 4341, 4347, 4406, 4407, 4813, 4821, 4822, 4823, 4824, 4825, 4826, 4827, 4841, 4842, 4843, 4844, 4845, 4846, 4847, 4848, 4849, 4850, 4851, 4852, 4861, 4862, 4863, 4864, 4865, 4866, 4867, 4868, 4871, 4872, 4873, 4874, 4875, 4876, 4901, 4902, 4903, 4904, 4905, 4906, 4907, 4908, 4909, 4910, 4911, 4912, 4913, 4914, 4915, 4916, 4917, 4918, 4919, 4920, 4921, 4922, 5012, 5013, 5014, 5015, 5016, 5017, 5018, 5029, 5045, 5046, 5047, 5048, 5049, 5060, 5063, 5064, 5065, 5073, 5129, 5301, 5364, 5380, 5381, 5406, 5415, 5417, 5418, 5419, 5480, 5488, 5521, 5522, 5523, 5524, 5525, 5526, 5527, 5528, 5580, 5606, 5609, 5610, 5616, 5617, 5622, 5623, 5624, 5625, 5626, 5627, 5628, 5629, 5631, 5633, 5636, 5637, 5639, 5643, 5654, 5655, 5657, 5659, 5668, 5712, 5715, 5725, 5733, 5759, 5762, 5763, 5771, 5772, 6001, 6002, 6005, 6006, 6007, 6008, 6009, 6011, 6012, 6013, 6015, 6016, 6017, 6380, 6400, 6401, 6410, 6411, 6420, 6421, 7012, 7013, 7014, 7015, 7016, 7018, 7029, 7063, 7073, 7301, 7309, 7310, 7313, 7315, 7317, 7351, 7352, 7364, 7380, 7381, 7390, 7406, 7407, 7415, 7417, 7418, 7419, 7435, 7465, 7480, 7488, 7521, 7522, 7523, 7524, 7525, 7526, 7527, 7528, 7636, 7637, 7639, 7640, 7734, 7750, 7751, 7752, 7755, 7757, 7773, 7774, 7775, 7776, 7777, 7778, 7779, 7780, 7781, 7821, 7822, 7823, 7824, 7825, 7826, 7827, 7841, 7842, 7843, 7844, 7845, 7846, 7847, 7848, 7849, 7850, 7851, 7852, 7901, 7902, 7903, 7904, 7905, 7906, 7907, 7908, 7909, 7910]\n"
     ]
    }
   ],
   "source": [
    "pollutants = \"all\"\n",
    "print(eea.keep_pollutants_supported(pollutants))"
   ]
  },
  {
   "cell_type": "code",
   "execution_count": null,
   "metadata": {},
   "outputs": [],
   "source": []
  },
  {
   "cell_type": "code",
   "execution_count": 13,
   "metadata": {},
   "outputs": [
    {
     "name": "stdout",
     "output_type": "stream",
     "text": [
      "[2015, 2019]\n"
     ]
    },
    {
     "name": "stderr",
     "output_type": "stream",
     "text": [
      "C:\\Users\\Enrico\\Desktop\\TirocinioTesi\\CodiceGithub\\EEA_datasets_handler.py:232: UserWarning: The years [1342, 2345, 2333] are not supported by EEA\n",
      "  warnings.warn(\"The years \"+str(years_dif)+\" are not supported by EEA\")\n"
     ]
    }
   ],
   "source": [
    "years = [1342, 2345, 2333, 2015, 2019, 2015]\n",
    "print(eea.keep_years_supported(years))"
   ]
  },
  {
   "cell_type": "code",
   "execution_count": null,
   "metadata": {},
   "outputs": [],
   "source": []
  },
  {
   "cell_type": "code",
   "execution_count": 2,
   "metadata": {},
   "outputs": [
    {
     "name": "stdout",
     "output_type": "stream",
     "text": [
      "{'IT': ['Milano', 'Bergamo', 'Brescia', 'Como', 'Cremona', 'Lecco', 'Pavia', 'Varese'], 'CY': [], 'AT': ['Wien']}\n"
     ]
    },
    {
     "name": "stderr",
     "output_type": "stream",
     "text": [
      "C:\\Users\\Enrico\\Desktop\\TirocinioTesi\\CodiceGithub\\EEA_datasets_handler.py:290: UserWarning: The countries ['FAKE_COUNTRY'] are not supported by EEA\n",
      "  warnings.warn(\"The countries \"+str(list(not_supported_countries))+\" are not supported by EEA\")\n",
      "C:\\Users\\Enrico\\Desktop\\TirocinioTesi\\CodiceGithub\\EEA_datasets_handler.py:314: UserWarning: The cities ['FAKE_CITY'] are not supported by EEA for the country IT\n",
      "  warnings.warn(\"The cities \"+str(not_supported_cities)+\" are not supported by EEA for the country \"+country)\n",
      "C:\\Users\\Enrico\\Desktop\\TirocinioTesi\\CodiceGithub\\EEA_datasets_handler.py:314: UserWarning: The cities ['FAKE_CITY'] are not supported by EEA for the country CY\n",
      "  warnings.warn(\"The cities \"+str(not_supported_cities)+\" are not supported by EEA for the country \"+country)\n",
      "C:\\Users\\Enrico\\Desktop\\TirocinioTesi\\CodiceGithub\\EEA_datasets_handler.py:314: UserWarning: The cities ['Lienz', 'FAKE_CITY'] are not supported by EEA for the country AT\n",
      "  warnings.warn(\"The cities \"+str(not_supported_cities)+\" are not supported by EEA for the country \"+country)\n"
     ]
    }
   ],
   "source": [
    "countries_cities_dict = {\"IT\": [\"Milano\",\"Bergamo\",\"FAKE_CITY\",\"Brescia\",\"Como\",\"Cremona\",\"Lecco\",\"Pavia\",\"Varese\"],\n",
    "                         \"CY\": [\"FAKE_CITY\"], \n",
    "                         \"AT\": [\"Lienz\",\"FAKE_CITY\",\"Wien\"],\n",
    "                         \"FAKE_COUNTRY\":[\"Moscow\"]}\n",
    "\n",
    "print(eea.keep_countries_cities_supported(countries_cities_dict))"
   ]
  },
  {
   "cell_type": "code",
   "execution_count": 15,
   "metadata": {},
   "outputs": [
    {
     "name": "stdout",
     "output_type": "stream",
     "text": [
      "{'CY': [], 'AT': ['Wien'], 'IT': ['Milano', 'Bergamo', 'Brescia', 'Como', 'Cremona', 'Lecco', 'Pavia', 'Varese']}\n"
     ]
    },
    {
     "name": "stderr",
     "output_type": "stream",
     "text": [
      "C:\\Users\\Enrico\\Desktop\\TirocinioTesi\\CodiceGithub\\EEA_datasets_handler.py:314: UserWarning: The cities ['FAKE_CITY'] are not supported by EEA for the country CY\n",
      "  warnings.warn(\"The cities \"+str(not_supported_cities)+\" are not supported by EEA for the country \"+country)\n",
      "C:\\Users\\Enrico\\Desktop\\TirocinioTesi\\CodiceGithub\\EEA_datasets_handler.py:314: UserWarning: The cities ['Lienz', 'FAKE_CITY'] are not supported by EEA for the country AT\n",
      "  warnings.warn(\"The cities \"+str(not_supported_cities)+\" are not supported by EEA for the country \"+country)\n",
      "C:\\Users\\Enrico\\Desktop\\TirocinioTesi\\CodiceGithub\\EEA_datasets_handler.py:314: UserWarning: The cities ['FAKE_CITY'] are not supported by EEA for the country IT\n",
      "  warnings.warn(\"The cities \"+str(not_supported_cities)+\" are not supported by EEA for the country \"+country)\n"
     ]
    }
   ],
   "source": [
    "# Either code notation or extended notation\n",
    "countries_cities_dict = {\"Italy\": [\"Milano\",\"Bergamo\",\"FAKE_CITY\",\"Brescia\",\"Como\",\"Cremona\",\"Lecco\",\"Pavia\",\"Varese\"],\n",
    "                         \"CY\": [\"FAKE_CITY\"], \n",
    "                         \"AT\": [\"Lienz\",\"FAKE_CITY\",\"Wien\"]}\n",
    "\n",
    "print(eea.keep_countries_cities_supported(countries_cities_dict))"
   ]
  },
  {
   "cell_type": "code",
   "execution_count": 36,
   "metadata": {},
   "outputs": [
    {
     "name": "stdout",
     "output_type": "stream",
     "text": [
      "{'CY': ['Lefkosia', 'Lemesos'], 'AT': ['Wien'], 'IT': ['Bergamo']}\n"
     ]
    }
   ],
   "source": [
    "# Each country can be associated with the string \"all\": in this case all its cities are taken into account.\n",
    "countries_cities_dict = {\"Italy\": [\"Bergamo\"],\n",
    "                         \"CY\": \"all\", \n",
    "                         \"AT\": [\"Wien\"]}\n",
    "\n",
    "print(eea.keep_countries_cities_supported(countries_cities_dict))"
   ]
  },
  {
   "cell_type": "code",
   "execution_count": 37,
   "metadata": {},
   "outputs": [
    {
     "name": "stdout",
     "output_type": "stream",
     "text": [
      "{'AT': ['Graz', 'Innsbruck', 'Klagenfurt', 'Linz', 'Salzburg', 'Wien'], 'BE': ['Antwerpen', 'Brugge', 'Bruxelles / Brussel', 'Charleroi', 'Gent', 'Kortrijk', 'Leuven', 'Liège', 'Mons', 'Namur'], 'BG': ['Blagoevgrad', 'Burgas', 'Dobrich', 'Haskovo', 'Pazardzhik', 'Pernik', 'Pleven', 'Plovdiv', 'Ruse', 'Shumen', 'Sliven', 'Sofia', 'Stara Zagora', 'Varna', 'Veliko Tarnovo', 'Vidin', 'Vratsa'], 'CH': ['Basel', 'Bern', 'Genève', 'Lausanne', 'Lugano', 'Luzern', 'St. Gallen', 'Winterthur', 'Zürich'], 'CY': ['Lefkosia', 'Lemesos'], 'CZ': ['Brno', 'Ceské Budejovice', 'Chomutov-Jirkov', 'Havírov', 'Hradec Králové', 'Jihlava', 'Karlovy Vary', 'Karviná', 'Kladno', 'Liberec', 'Most', 'Olomouc', 'Ostrava', 'Pardubice', 'Plzen', 'Praha', 'Ústí nad Labem', 'Zlín'], 'DE': ['Aachen', 'Aschaffenburg', 'Augsburg', 'Bamberg', 'Bayreuth', 'Berlin', 'Bielefeld', 'Bochum', 'Bonn', 'Bottrop', 'Brandenburg an der Havel', 'Braunschweig', 'Bremen', 'Bremerhaven', 'Celle', 'Chemnitz', 'Cottbus', 'Darmstadt', 'Dessau-Roßlau', 'Dortmund', 'Dresden', 'Duisburg', 'Düsseldorf', 'Erfurt', 'Erlangen', 'Essen', 'Esslingen am Neckar', 'Flensburg', 'Frankenthal (Pfalz)', 'Frankfurt (Oder)', 'Frankfurt am Main', 'Freiburg im Breisgau', 'Friedrichshafen', 'Fulda', 'Fürth', 'Gelsenkirchen', 'Gera', 'Gießen', 'Görlitz', 'Göttingen', 'Hagen', 'Halle an der Saale', 'Hamburg', 'Hamm', 'Hanau', 'Hannover', 'Heidelberg', 'Heilbronn', 'Herne', 'Hildesheim', 'Ingolstadt', 'Iserlohn', 'Jena', 'Kaiserslautern', 'Karlsruhe', 'Kassel', 'Kempten (Allgäu)', 'Kiel', 'Koblenz', 'Köln', 'Konstanz', 'Krefeld', 'Landshut', 'Leipzig', 'Leverkusen', 'Lübeck', 'Ludwigsburg', 'Ludwigshafen am Rhein', 'Lüneburg', 'Magdeburg', 'Mainz', 'Mannheim', 'Marburg', 'Moers', 'Mönchengladbach', 'Mülheim a.d.Ruhr', 'München', 'Münster', 'Neubrandenburg', 'Neumünster', 'Neuss', 'Neu-Ulm', 'Nürnberg', 'Oberhausen', 'Offenbach am Main', 'Offenburg', 'Oldenburg (Oldenburg)', 'Osnabrück', 'Paderborn', 'Passau', 'Pforzheim', 'Plauen', 'Potsdam', 'Recklinghausen', 'Regensburg', 'Remscheid', 'Reutlingen', 'Rostock', 'Saarbrücken', 'Salzgitter', 'Schweinfurt', 'Schwerin', 'Siegen', 'Solingen', 'Speyer', 'Stralsund', 'Stuttgart', 'Trier', 'Tübingen', 'Ulm', 'Villingen-Schwenningen', 'Weimar', 'Wetzlar', 'Wiesbaden', 'Witten', 'Wolfsburg', 'Wuppertal', 'Würzburg', 'Zwickau'], 'DK': ['Aalborg', 'Århus', 'København', 'Odense'], 'EE': ['Narva', 'Tallinn', 'Tartu'], 'ES': ['A Coruña', 'Albacete', 'Alcalá de Henares', 'Alcobendas', 'Alcorcón', 'Algeciras', 'Alicante/Alacant', 'Almería', 'Arrecife', 'Avilés', 'Badajoz', 'Barcelona', 'Benidorm', 'Bilbao', 'Burgos', 'Cáceres', 'Cádiz', 'Cartagena', 'Castellón de la Plana/Castelló de la Plana', 'Ciudad Real', 'Córdoba', 'Coslada', 'Dos Hermanas', 'Elche/Elx', 'Elda', 'Ferrol', 'Gandia', 'Getafe', 'Gijón', 'Girona', 'Granada', 'Granollers', 'Guadalajara', 'Jaén', 'Jerez de la Frontera', 'Las Palmas', 'Leganés', 'León', 'Línea de la Concepción, La', 'Lleida', 'Logroño', 'Lugo', 'Madrid', 'Majadahonda', 'Málaga', 'Manresa', 'Marbella', 'Mataró', 'Mollet del Vallès', 'Móstoles', 'Murcia', 'Ourense', 'Oviedo', 'Palencia', 'Palma de Mallorca', 'Pamplona/Iruña', 'Ponferrada', 'Pontevedra', 'Reus', 'Salamanca', 'San Fernando', 'San Sebastián/Donostia', 'Santa Cruz de Tenerife', 'Santander', 'Santiago de Compostela', 'Sevilla', 'Talavera de la Reina', 'Tarragona', 'Telde', 'Terrassa', 'Toledo', 'Torrejón de Ardoz', 'Torrevieja', 'Valencia', 'Valladolid', 'Vigo', 'Viladecans', 'Vilanova i la Geltrú', 'Vitoria/Gasteiz', 'Zamora', 'Zaragoza'], 'FI': ['Helsinki / Helsingfors', 'Jyväskylä', 'Kuopio', 'Lahti / Lahtis', 'Oulu / Uleåborg', 'Tampere / Tammerfors', 'Turku / Åbo'], 'FR': ['Aix-en-Provence', 'Ajaccio', 'Albi', 'Amiens', 'Angers', 'Angoulème', 'Annecy', 'Annemasse', 'Argenteuil - Bezons', 'Arras', 'Aubagne', 'Avignon', 'Bayonne', 'Beauvais', 'Belfort', 'Besançon', 'Bordeaux', 'Boulogne-sur-mer', 'Bourges', 'Brest', 'Brive-la-Gaillarde', 'CA de Sophia-Antipolis', \"CA Europ' Essonne\", 'CA Sénart - Val de Seine', 'Caen', 'Calais', 'Cergy-Pontoise', 'Châlons-en-Champagne', 'Chalon-sur-Saône', 'Chambery', 'Charleville-Mézières', 'Chartres', 'Châteauroux', 'Cherbourg', 'Clermont-Ferrand', 'Colmar', 'Compiègne', 'Creil', 'Dijon', 'Douai', 'Dunkerque', 'Evreux', 'Evry', 'Fort-de-France', 'Fréjus', 'Grenoble', 'Hénin - Carvin', 'La Rochelle', 'Le Havre', 'Le Mans', 'Lens - Liévin', 'Lille', 'Limoges', 'Lorient', 'Lyon', 'Mantes en Yvelines', 'Marne la Vallée', 'Marseille', 'Martigues', 'Melun', 'Metz', 'Montbelliard', 'Montpellier', 'Mulhouse', 'Nancy', 'Nantes', 'Nice', 'Nimes', 'Niort', 'Orléans', 'Paris', 'Pau', 'Perpignan', 'Poitiers', 'Quimper', 'Reims', 'Rennes', 'Roanne', 'Rouen', 'Saint Denis', 'Saint-Brieuc', 'Saint-Etienne', 'Saint-Nazaire', 'Saint-Quentin', 'Strasbourg', 'Tarbes', 'Toulon', 'Toulouse', 'Tours', 'Troyes', 'Valence', 'Valenciennes', 'Vannes', 'Versailles'], 'GB': ['Aberdeen', 'Barnsley', 'Bath and North East Somerset', 'Bedford', 'Belfast', 'Blackburn with Darwen', 'Blackpool', 'Bournemouth', 'Bradford', 'Brighton and Hove', 'Bristol', 'Burnley', 'Cambridge', 'Cannock Chase', 'Cardiff', 'Carlisle', 'Cheshire West and Chester', 'Chesterfield', 'Coventry', 'Crawley', 'Darlington', 'Derby', 'Derry', 'Doncaster', 'Dundee City', 'East Staffordshire', 'Eastbourne', 'Edinburgh', 'Exeter', 'Falkirk', 'Glasgow', 'Gloucester', 'Greater Manchester', 'Greater Nottingham', 'Halton', 'Hartlepool', 'Hyndburn', 'Kingston-upon-Hull', 'Kirklees', 'Leeds', 'Leicester', 'Lincoln', 'Lisburn', 'Liverpool', 'London', 'Luton', 'Maidstone', 'Mansfield', 'Medway', 'Middlesbrough', 'Milton Keynes', 'Newport', 'North East Lincolnshire', 'North Lanarkshire', 'Northampton', 'Norwich', 'Oxford', 'Plymouth', 'Portsmouth', 'Preston', 'Reading', 'Rotherham', 'Sheffield', 'Slough', 'Southampton', 'Southend-on-Sea', 'St Albans', 'Stevenage', 'Stockton-on-Tees', 'Stoke-on-trent', 'Sunderland', 'Swansea', 'Swindon', 'Telford and Wrekin', 'Thurrock', 'Tyneside conurbation', 'Wakefield', 'Warrington', 'Warwick', 'West Midlands urban area', 'Wirral', 'Worthing', 'Wrexham', 'York'], 'GR': ['Athina', 'Larisa', 'Pátra', 'Thessaloniki', 'Volos'], 'HR': ['Osijek', 'Rijeka', 'Slavonski Brod', 'Split', 'Zagreb'], 'HU': ['Budapest', 'Debrecen', 'Gyõr', 'Kecskemét', 'Miskolc', 'Nyíregyháza', 'Pécs', 'Szeged', 'Szombathely'], 'IE': ['Cork', 'Dublin', 'Galway', 'Limerick', 'Waterford'], 'IS': ['Reykjavík'], 'IT': ['Ancona', 'Asti', 'Avellino', 'Bari', 'Barletta', 'Benevento', 'Bergamo', 'Biella', 'Bologna', 'Bolzano', 'Brescia', 'Busto Arsizio', 'Cagliari', 'Campobasso', 'Carrara', 'Caserta', 'Catania', 'Catanzaro', 'Como', 'Cosenza', 'Cremona', 'Ferrara', 'Firenze', 'Foggia', 'Forlì', 'Genova', 'La Spezia', 'Latina', 'Lecce', 'Lecco', 'Livorno', 'Massa', 'Messina', 'Milano', 'Modena', 'Napoli', 'Novara', 'Padova', 'Palermo', 'Parma', 'Pavia', 'Perugia', 'Pesaro', 'Pescara', 'Piacenza', 'Pisa', 'Pordenone', 'Potenza', 'Prato', 'Ravenna', 'Reggio di Calabria', \"Reggio nell'Emilia\", 'Rimini', 'Roma', 'Salerno', 'Sanremo', 'Sassari', 'Savona', 'Siracusa', 'Taranto', 'Terni', 'Torino', 'Trento', 'Treviso', 'Trieste', 'Udine', 'Varese', 'Venezia', 'Verona', 'Viareggio', 'Vicenza', 'Vigevano'], 'LT': ['Kaunas', 'Klaipeda', 'Panevežys', 'Šiauliai', 'Vilnius'], 'LU': ['Luxembourg'], 'LV': ['Liepaja', 'Riga'], 'MT': ['Valletta'], 'NL': ['Amsterdam', 'Apeldoorn', 'Breda', 'Dordrecht', 'Eindhoven', 'Enschede', 'Groningen', 'Haarlem', 'Heerlen', 'Hilversum', 'Leiden', 'Nijmegen', 'Rotterdam', \"'s-Gravenhage\", 'Utrecht'], 'NO': ['Bergen', 'Kristiansand', 'Oslo', 'Stavanger', 'Tromsø', 'Trondheim'], 'PL': ['Bialystok', 'Bielsko-Biala', 'Bydgoszcz', 'Chelm', 'Czestochowa', 'Elblag', 'Elk', 'Gdansk', 'Gdynia', 'Glogów', 'Gniezno', 'Górnoslaski Zwiazek Metropolitalny', 'Gorzów Wielkopolski', 'Grudziadz', 'Inowroclaw', 'Jastrzebie-Zdrój', 'Jelenia Góra', 'Kalisz', 'Kielce', 'Konin', 'Koszalin', 'Kraków', 'Legnica', 'Leszno', 'Lódz', 'Lomza', 'Lubin', 'Lublin', 'Nowy Sacz', 'Olsztyn', 'Opole', 'Ostrów Wielkopolski', 'Pabianice', 'Pila', 'Piotrków Trybunalski', 'Plock', 'Poznan', 'Przemysl', 'Radom', 'Rybnik', 'Rzeszów', 'Siedlce', 'Slupsk', 'Stalowa Wola', 'Stargard Szczecinski', 'Suwalki', 'Swidnica', 'Szczecin', 'Tarnów', 'Tczew', 'Tomaszów Mazowiecki', 'Torun', 'Walbrzych', 'Warszawa', 'Wloclawek', 'Wroclaw', 'Zamosc', 'Zgierz', 'Zielona Góra', 'Zory'], 'PT': ['Aveiro', 'Braga', 'Coimbra', 'Faro', 'Funchal', 'Guimarães', 'Lisboa', 'Paredes', 'Porto', 'Setúbal', 'Sintra', 'Vila Franca de Xira'], 'RO': ['Alba Iulia', 'Arad', 'Bacau', 'Baia Mare', 'Bistrita', 'Botosani', 'Braila', 'Brasov', 'Bucuresti', 'Buzau', 'Calarasi', 'Cluj-Napoca', 'Constanta', 'Craiova', 'Galati', 'Giurgiu', 'Iasi', 'Oradea', 'Piatra Neamt', 'Pitesti', 'Ploiesti', 'Râmnicu Vâlcea', 'Satu Mare', 'Sibiu', 'Suceava', 'Târgu Mures', 'Timisoara', 'Tulcea'], 'SE': ['Borås', 'Göteborg', 'Helsingborg', 'Jönköping', 'Linköping', 'Lund', 'Malmö', 'Norrköping', 'Örebro', 'Stockholm', 'Umeå', 'Uppsala', 'Västerås'], 'SI': ['Ljubljana', 'Maribor'], 'SK': ['Banská Bystrica', 'Bratislava', 'Košice', 'Nitra', 'Prešov', 'Trencín', 'Trnava', 'Žilina'], 'AD': [], 'AL': [], 'BA': [], 'GI': [], 'ME': [], 'MK': [], 'RS': [], 'TR': [], 'XK': []}\n"
     ]
    }
   ],
   "source": [
    "# The whole countries_cities_dict can be \"all\": all the countries and cities are taken into account.\n",
    "countries_cities_dict = \"all\"\n",
    "\n",
    "print(eea.keep_countries_cities_supported(countries_cities_dict))"
   ]
  },
  {
   "cell_type": "code",
   "execution_count": null,
   "metadata": {},
   "outputs": [],
   "source": []
  },
  {
   "cell_type": "code",
   "execution_count": null,
   "metadata": {},
   "outputs": [],
   "source": []
  },
  {
   "cell_type": "code",
   "execution_count": null,
   "metadata": {},
   "outputs": [],
   "source": []
  },
  {
   "cell_type": "markdown",
   "metadata": {},
   "source": [
    "# DOWNLOAD DATASETS"
   ]
  },
  {
   "cell_type": "code",
   "execution_count": 18,
   "metadata": {},
   "outputs": [],
   "source": [
    "dest_path = \"C:\\\\Datasets\"\n",
    "countries_cities_dict = {\"IT\":[\"Milano\",\"Venezia\"], \n",
    "                         \"AT\":[\"Linz\",\"Wien\"], \n",
    "                         \"GB\":[\"London\"]}\n",
    "pollutants = [\"PM10\"]\n",
    "years = [2020]\n",
    "eea.download_datasets(dest_path, countries_cities_dict, pollutants, years)"
   ]
  },
  {
   "cell_type": "markdown",
   "metadata": {},
   "source": [
    "The datasets are *csv* files.\n",
    "\n",
    "A dataset name has the following structure: **NationCode_CityName_PollutantId_Year_StationId.csv**.\n",
    "\n",
    "A hierarchy of directories is created in the specified path."
   ]
  },
  {
   "cell_type": "raw",
   "metadata": {},
   "source": [
    "Datasets\n",
    "+-- EEA\n",
    "    +-- AT\n",
    "    |   +-- Linz\n",
    "    |   |   +-- AT_Linz_5_2020_49647.csv\n",
    "    |   |   +-- AT_Linz_5_2020_49682.csv\n",
    "    |   |   +-- AT_Linz_5_2020_49899.csv\n",
    "    |   |   +-- AT_Linz_5_2020_53269.csv\n",
    "    |   +-- Wien\n",
    "    |       +-- AT_Linz_5_2020_49027.csv\n",
    "    |       +-- AT_Linz_5_2020_49028.csv\n",
    "    |       +-- AT_Linz_5_2020_49029.csv\n",
    "    |       +-- AT_Linz_5_2020_49398.csv\n",
    "    |       +-- AT_Linz_5_2020_49400.csv\n",
    "    |       +-- AT_Linz_5_2020_49402.csv\n",
    "    |       +-- AT_Linz_5_2020_49451.csv\n",
    "    |       +-- AT_Linz_5_2020_49452.csv\n",
    "    |       +-- AT_Linz_5_2020_49736.csv\n",
    "    |       +-- AT_Linz_5_2020_49737.csv\n",
    "    |       +-- AT_Linz_5_2020_49809.csv\n",
    "    |       +-- AT_Linz_5_2020_49912.csv\n",
    "    |       +-- AT_Linz_5_2020_63486.csv\n",
    "    +-- GB\n",
    "    |   +-- London\n",
    "    |       +-- GB_London_5_2020_21274.csv\n",
    "    |       +-- GB_London_5_2020_21877.csv\n",
    "    |       +-- GB_London_5_2020_22642.csv\n",
    "    |       +-- GB_London_5_2020_22665.csv\n",
    "    |       +-- GB_London_5_2020_68646.csv\n",
    "    +-- IT\n",
    "        +-- Milano\n",
    "        |   +-- IT_Milano_5_2020_24044.csv\n",
    "        |   +-- IT_Milano_5_2020_24089.csv\n",
    "        |   +-- IT_Milano_5_2020_24293.csv\n",
    "        |   +-- IT_Milano_5_2020_24321.csv\n",
    "        |   +-- IT_Milano_5_2020_24779.csv\n",
    "        |   +-- IT_Milano_5_2020_25228.csv\n",
    "        |   +-- IT_Milano_5_2020_25606.csv\n",
    "        |   +-- IT_Milano_5_2020_67851.csv\n",
    "        |   +-- IT_Milano_5_2020_69646.csv\n",
    "        +-- Venezia\n",
    "        |   +-- IT_Venezia_5_2020_25052.csv\n",
    "        |   +-- IT_Venezia_5_2020_26555.csv\n",
    "        |   +-- IT_Venezia_5_2020_61894.csv"
   ]
  },
  {
   "cell_type": "markdown",
   "metadata": {},
   "source": [
    "If that structure of directories already  exists in the specified path, it is used (i.e. it's not created a new structure).\n",
    "\n",
    "If a dataset already  exists, it is overwritten."
   ]
  },
  {
   "cell_type": "code",
   "execution_count": null,
   "metadata": {},
   "outputs": [],
   "source": []
  },
  {
   "cell_type": "markdown",
   "metadata": {},
   "source": [
    "*A warning is given for each non-supported value, like in the previous functions.*"
   ]
  },
  {
   "cell_type": "code",
   "execution_count": 19,
   "metadata": {},
   "outputs": [
    {
     "name": "stderr",
     "output_type": "stream",
     "text": [
      "C:\\Users\\Enrico\\Desktop\\TirocinioTesi\\CodiceGithub\\EEA_datasets_handler.py:202: UserWarning: The pollutants ['SKK'] are not supported by EEA\n",
      "  warnings.warn(\"The pollutants \"+str(pollutants_dif)+\" are not supported by EEA\")\n",
      "C:\\Users\\Enrico\\Desktop\\TirocinioTesi\\CodiceGithub\\EEA_datasets_handler.py:232: UserWarning: The years [2012] are not supported by EEA\n",
      "  warnings.warn(\"The years \"+str(years_dif)+\" are not supported by EEA\")\n",
      "C:\\Users\\Enrico\\Desktop\\TirocinioTesi\\CodiceGithub\\EEA_datasets_handler.py:290: UserWarning: The countries ['FAKE_COUNTRY'] are not supported by EEA\n",
      "  warnings.warn(\"The countries \"+str(list(not_supported_countries))+\" are not supported by EEA\")\n",
      "C:\\Users\\Enrico\\Desktop\\TirocinioTesi\\CodiceGithub\\EEA_datasets_handler.py:314: UserWarning: The cities ['FAKE_CITY'] are not supported by EEA for the country IT\n",
      "  warnings.warn(\"The cities \"+str(not_supported_cities)+\" are not supported by EEA for the country \"+country)\n"
     ]
    }
   ],
   "source": [
    "dest_path = \"C:\\\\Datasets\"\n",
    "countries_cities_dict = {\"IT\": [\"Milano\", \"FAKE_CITY\"],\n",
    "                         \"FAKE_COUNTRY\": [\"London\"]}\n",
    "pollutants = [\"PM10\", \"SKK\"] # SKK it's not supported\n",
    "years = [2020, 2012, 2019] # 2012 it's not supported\n",
    "eea.download_datasets(dest_path, countries_cities_dict, pollutants, years) "
   ]
  },
  {
   "cell_type": "code",
   "execution_count": null,
   "metadata": {},
   "outputs": [],
   "source": []
  },
  {
   "cell_type": "markdown",
   "metadata": {},
   "source": [
    "*Like in the previous functions, the string \"all\" can be used*\n",
    "\n",
    "***WARNING***: *the following snippets of code take a long time, because they involve a lot of datasets. They are shown only for a demonstrative purpose.*"
   ]
  },
  {
   "cell_type": "code",
   "execution_count": null,
   "metadata": {},
   "outputs": [],
   "source": [
    "dest_path = \"C:\\\\Datasets\"\n",
    "countries_cities_dict = {\"IT\": \"all\", # All the italian supported cities\n",
    "                         \"GB\": [\"London\"]} \n",
    "pollutants = \"all\" # All the pollutants\n",
    "years = [2020]\n",
    "eea.download_datasets(dest_path, countries_cities_dict, pollutants, years)"
   ]
  },
  {
   "cell_type": "code",
   "execution_count": null,
   "metadata": {},
   "outputs": [],
   "source": [
    "dest_path = \"C:\\\\Datasets\"\n",
    "countries_cities_dict = \"all\" # All the countries and cities\n",
    "pollutants = [\"PM10\"]\n",
    "years = [2020]\n",
    "eea.download_datasets(dest_path, countries_cities_dict, pollutants, years)"
   ]
  },
  {
   "cell_type": "code",
   "execution_count": null,
   "metadata": {},
   "outputs": [],
   "source": []
  },
  {
   "cell_type": "markdown",
   "metadata": {},
   "source": [
    "*Like in the previous functions, the code notations and the extended ones can be both used. Both for the countries and for the pollutants.*"
   ]
  },
  {
   "cell_type": "code",
   "execution_count": 7,
   "metadata": {},
   "outputs": [],
   "source": [
    "dest_path = \"C:\\\\Datasets\"\n",
    "countries_cities_dict = {\"Italy\": [\"Milano\", \"Venezia\"], \n",
    "                         \"GB\": [\"London\"]} \n",
    "pollutants = [5, \"PM10\"] \n",
    "years = [2020]\n",
    "eea.download_datasets(dest_path, countries_cities_dict, pollutants, years)"
   ]
  },
  {
   "cell_type": "code",
   "execution_count": null,
   "metadata": {},
   "outputs": [],
   "source": []
  },
  {
   "cell_type": "markdown",
   "metadata": {},
   "source": [
    "*A warning is given also if no dataset has been found for a certain country.*"
   ]
  },
  {
   "cell_type": "code",
   "execution_count": 14,
   "metadata": {},
   "outputs": [
    {
     "name": "stderr",
     "output_type": "stream",
     "text": [
      "C:\\Users\\Enrico\\Desktop\\TirocinioTesi\\CodiceGithub\\EEA_datasets_handler.py:380: UserWarning: Data have not been found for the country CY for the pollutants [5] for the years [2020]\n",
      "  warnings.warn((\"Data have not been found for the country \"+country+\n"
     ]
    }
   ],
   "source": [
    "dest_path = \"C:\\\\Datasets\"\n",
    "countries_cities_dict = {\"Italy\": [\"Milano\",\"Bergamo\",\"Varese\"], \n",
    "                         \"CY\": \"all\",\n",
    "                         \"AT\": [\"Linz\",\"Wien\"]}\n",
    "pollutants = [\"PM10\"]\n",
    "years = [2020]\n",
    "eea.download_datasets(dest_path, countries_cities_dict, pollutants, years)"
   ]
  },
  {
   "cell_type": "code",
   "execution_count": null,
   "metadata": {},
   "outputs": [],
   "source": []
  },
  {
   "cell_type": "code",
   "execution_count": null,
   "metadata": {},
   "outputs": [],
   "source": []
  },
  {
   "cell_type": "code",
   "execution_count": null,
   "metadata": {},
   "outputs": [],
   "source": []
  },
  {
   "cell_type": "markdown",
   "metadata": {},
   "source": [
    "# RETRIEVE DATASETS"
   ]
  },
  {
   "cell_type": "markdown",
   "metadata": {},
   "source": [
    "*The input parameters have the same semantics of the previous functions: both code and extended notations can be used (for countries and pollutants); the \"all\" string can be used. In addition, a warning is given for each not supported value.*"
   ]
  },
  {
   "cell_type": "code",
   "execution_count": 38,
   "metadata": {},
   "outputs": [
    {
     "name": "stdout",
     "output_type": "stream",
     "text": [
      "['C:\\\\Datasets\\\\EEA\\\\GB\\\\London\\\\GB_London_5_2020_21274.csv', 'C:\\\\Datasets\\\\EEA\\\\GB\\\\London\\\\GB_London_5_2020_21887.csv', 'C:\\\\Datasets\\\\EEA\\\\GB\\\\London\\\\GB_London_5_2020_22642.csv', 'C:\\\\Datasets\\\\EEA\\\\GB\\\\London\\\\GB_London_5_2020_22665.csv', 'C:\\\\Datasets\\\\EEA\\\\GB\\\\London\\\\GB_London_5_2020_68646.csv', 'C:\\\\Datasets\\\\EEA\\\\IT\\\\Milano\\\\IT_Milano_5_2019_24044.csv', 'C:\\\\Datasets\\\\EEA\\\\IT\\\\Milano\\\\IT_Milano_5_2019_24089.csv', 'C:\\\\Datasets\\\\EEA\\\\IT\\\\Milano\\\\IT_Milano_5_2019_24293.csv', 'C:\\\\Datasets\\\\EEA\\\\IT\\\\Milano\\\\IT_Milano_5_2019_24321.csv', 'C:\\\\Datasets\\\\EEA\\\\IT\\\\Milano\\\\IT_Milano_5_2019_24779.csv', 'C:\\\\Datasets\\\\EEA\\\\IT\\\\Milano\\\\IT_Milano_5_2019_25228.csv', 'C:\\\\Datasets\\\\EEA\\\\IT\\\\Milano\\\\IT_Milano_5_2019_25606.csv', 'C:\\\\Datasets\\\\EEA\\\\IT\\\\Milano\\\\IT_Milano_5_2019_67851.csv', 'C:\\\\Datasets\\\\EEA\\\\IT\\\\Milano\\\\IT_Milano_5_2019_69646.csv', 'C:\\\\Datasets\\\\EEA\\\\IT\\\\Milano\\\\IT_Milano_5_2020_24044.csv', 'C:\\\\Datasets\\\\EEA\\\\IT\\\\Milano\\\\IT_Milano_5_2020_24089.csv', 'C:\\\\Datasets\\\\EEA\\\\IT\\\\Milano\\\\IT_Milano_5_2020_24293.csv', 'C:\\\\Datasets\\\\EEA\\\\IT\\\\Milano\\\\IT_Milano_5_2020_24321.csv', 'C:\\\\Datasets\\\\EEA\\\\IT\\\\Milano\\\\IT_Milano_5_2020_24779.csv', 'C:\\\\Datasets\\\\EEA\\\\IT\\\\Milano\\\\IT_Milano_5_2020_25228.csv', 'C:\\\\Datasets\\\\EEA\\\\IT\\\\Milano\\\\IT_Milano_5_2020_25606.csv', 'C:\\\\Datasets\\\\EEA\\\\IT\\\\Milano\\\\IT_Milano_5_2020_67851.csv', 'C:\\\\Datasets\\\\EEA\\\\IT\\\\Milano\\\\IT_Milano_5_2020_69646.csv']\n"
     ]
    },
    {
     "name": "stderr",
     "output_type": "stream",
     "text": [
      "C:\\Users\\Enrico\\Desktop\\TirocinioTesi\\CodiceGithub\\EEA_datasets_handler.py:202: UserWarning: The pollutants ['SO'] are not supported by EEA\n",
      "  warnings.warn(\"The pollutants \"+str(pollutants_dif)+\" are not supported by EEA\")\n"
     ]
    }
   ],
   "source": [
    "source_path = \"C:\\\\Datasets\\\\EEA\"\n",
    "countries_cities_dict = {\"IT\": [\"Milano\"],\n",
    "                         \"GB\": [\"London\"]}\n",
    "pollutants = [\"C6H6\", \"PM10\", \"SO\"] # SO it's not supported\n",
    "years = [2020, 2019] \n",
    "files = eea.retrieve_datasets(source_path, countries_cities_dict, pollutants, years)\n",
    "print(files)"
   ]
  },
  {
   "cell_type": "markdown",
   "metadata": {},
   "source": [
    "*A warning is also given if, for a certain country, no dataset has been found.*"
   ]
  },
  {
   "cell_type": "code",
   "execution_count": null,
   "metadata": {},
   "outputs": [],
   "source": []
  },
  {
   "cell_type": "code",
   "execution_count": null,
   "metadata": {},
   "outputs": [],
   "source": []
  },
  {
   "cell_type": "code",
   "execution_count": null,
   "metadata": {},
   "outputs": [],
   "source": []
  },
  {
   "cell_type": "markdown",
   "metadata": {},
   "source": [
    "# REMOVE DATASETS"
   ]
  },
  {
   "cell_type": "markdown",
   "metadata": {},
   "source": [
    "*The input parameters have the same semantics of the previous functions: both code and extended notations can be used (for countries and pollutants); the \"all\" string can be used. In addition, a warning is given for each not supported value. Moreover, a warning is given for each country for which no dataset has been found.*"
   ]
  },
  {
   "cell_type": "code",
   "execution_count": 13,
   "metadata": {},
   "outputs": [],
   "source": [
    "source_path = \"C:\\\\Datasets\\\\EEA\"\n",
    "countries_cities_dict = {\"Italy\": [\"Venezia\"]}\n",
    "pollutants = \"all\"\n",
    "years = [2020] \n",
    "eea.remove_datasets(source_path,countries_cities_dict,pollutants,years)"
   ]
  },
  {
   "cell_type": "code",
   "execution_count": null,
   "metadata": {},
   "outputs": [],
   "source": []
  },
  {
   "cell_type": "code",
   "execution_count": null,
   "metadata": {},
   "outputs": [],
   "source": []
  },
  {
   "cell_type": "code",
   "execution_count": null,
   "metadata": {},
   "outputs": [],
   "source": []
  },
  {
   "cell_type": "markdown",
   "metadata": {},
   "source": [
    "# LOAD DATASETS"
   ]
  },
  {
   "cell_type": "markdown",
   "metadata": {},
   "source": [
    "*The input parameters have the same semantics of the previous functions: both code and extended notations can be used (for countries and pollutants); the \"all\" string can be used. In addition, a warning is given for each not supported value. Moreover, a warning is given for each country for which no dataset has been found.*"
   ]
  },
  {
   "cell_type": "markdown",
   "metadata": {},
   "source": [
    "This function loads a 'raw' DataFrame pandas, i.e. the EEA datasets are not processed at all."
   ]
  },
  {
   "cell_type": "code",
   "execution_count": 2,
   "metadata": {},
   "outputs": [
    {
     "name": "stdout",
     "output_type": "stream",
     "text": [
      "<class 'pandas.core.frame.DataFrame'>\n",
      "RangeIndex: 2773 entries, 0 to 2772\n",
      "Data columns (total 17 columns):\n",
      " #   Column                    Non-Null Count  Dtype  \n",
      "---  ------                    --------------  -----  \n",
      " 0   Countrycode               2773 non-null   object \n",
      " 1   Namespace                 2773 non-null   object \n",
      " 2   AirQualityNetwork         2773 non-null   object \n",
      " 3   AirQualityStation         2773 non-null   object \n",
      " 4   AirQualityStationEoICode  2773 non-null   object \n",
      " 5   SamplingPoint             2773 non-null   object \n",
      " 6   SamplingProcess           2773 non-null   object \n",
      " 7   Sample                    2698 non-null   object \n",
      " 8   AirPollutant              2773 non-null   object \n",
      " 9   AirPollutantCode          2773 non-null   object \n",
      " 10  AveragingTime             2773 non-null   object \n",
      " 11  Concentration             2727 non-null   float64\n",
      " 12  UnitOfMeasurement         2773 non-null   object \n",
      " 13  DatetimeBegin             2773 non-null   object \n",
      " 14  DatetimeEnd               2773 non-null   object \n",
      " 15  Validity                  2773 non-null   int64  \n",
      " 16  Verification              2773 non-null   int64  \n",
      "dtypes: float64(1), int64(2), object(14)\n",
      "memory usage: 368.4+ KB\n"
     ]
    },
    {
     "data": {
      "text/html": [
       "<div>\n",
       "<style scoped>\n",
       "    .dataframe tbody tr th:only-of-type {\n",
       "        vertical-align: middle;\n",
       "    }\n",
       "\n",
       "    .dataframe tbody tr th {\n",
       "        vertical-align: top;\n",
       "    }\n",
       "\n",
       "    .dataframe thead th {\n",
       "        text-align: right;\n",
       "    }\n",
       "</style>\n",
       "<table border=\"1\" class=\"dataframe\">\n",
       "  <thead>\n",
       "    <tr style=\"text-align: right;\">\n",
       "      <th></th>\n",
       "      <th>Countrycode</th>\n",
       "      <th>Namespace</th>\n",
       "      <th>AirQualityNetwork</th>\n",
       "      <th>AirQualityStation</th>\n",
       "      <th>AirQualityStationEoICode</th>\n",
       "      <th>SamplingPoint</th>\n",
       "      <th>SamplingProcess</th>\n",
       "      <th>Sample</th>\n",
       "      <th>AirPollutant</th>\n",
       "      <th>AirPollutantCode</th>\n",
       "      <th>AveragingTime</th>\n",
       "      <th>Concentration</th>\n",
       "      <th>UnitOfMeasurement</th>\n",
       "      <th>DatetimeBegin</th>\n",
       "      <th>DatetimeEnd</th>\n",
       "      <th>Validity</th>\n",
       "      <th>Verification</th>\n",
       "    </tr>\n",
       "  </thead>\n",
       "  <tbody>\n",
       "    <tr>\n",
       "      <th>0</th>\n",
       "      <td>IT</td>\n",
       "      <td>IT.ISPRA.AQD</td>\n",
       "      <td>NET.IT082A</td>\n",
       "      <td>STA.IT1743A</td>\n",
       "      <td>IT1743A</td>\n",
       "      <td>SPO.IT1743A_5_BETA_2005-11-18_00:00:00</td>\n",
       "      <td>SPP.IT1743A_5_BETA_2005-11-18_00:00:00</td>\n",
       "      <td>SAM.IT1743A_5_BETA_2005-11-18_00:00:00</td>\n",
       "      <td>PM10</td>\n",
       "      <td>http://dd.eionet.europa.eu/vocabulary/aq/pollu...</td>\n",
       "      <td>day</td>\n",
       "      <td>79.600000</td>\n",
       "      <td>µg/m3</td>\n",
       "      <td>2020-01-09 00:00:00 +01:00</td>\n",
       "      <td>2020-01-10 00:00:00 +01:00</td>\n",
       "      <td>1</td>\n",
       "      <td>3</td>\n",
       "    </tr>\n",
       "    <tr>\n",
       "      <th>1</th>\n",
       "      <td>IT</td>\n",
       "      <td>IT.ISPRA.AQD</td>\n",
       "      <td>NET.IT082A</td>\n",
       "      <td>STA.IT1743A</td>\n",
       "      <td>IT1743A</td>\n",
       "      <td>SPO.IT1743A_5_BETA_2005-11-18_00:00:00</td>\n",
       "      <td>SPP.IT1743A_5_BETA_2005-11-18_00:00:00</td>\n",
       "      <td>SAM.IT1743A_5_BETA_2005-11-18_00:00:00</td>\n",
       "      <td>PM10</td>\n",
       "      <td>http://dd.eionet.europa.eu/vocabulary/aq/pollu...</td>\n",
       "      <td>day</td>\n",
       "      <td>64.700000</td>\n",
       "      <td>µg/m3</td>\n",
       "      <td>2020-01-10 00:00:00 +01:00</td>\n",
       "      <td>2020-01-11 00:00:00 +01:00</td>\n",
       "      <td>1</td>\n",
       "      <td>3</td>\n",
       "    </tr>\n",
       "    <tr>\n",
       "      <th>2</th>\n",
       "      <td>IT</td>\n",
       "      <td>IT.ISPRA.AQD</td>\n",
       "      <td>NET.IT082A</td>\n",
       "      <td>STA.IT1743A</td>\n",
       "      <td>IT1743A</td>\n",
       "      <td>SPO.IT1743A_5_BETA_2005-11-18_00:00:00</td>\n",
       "      <td>SPP.IT1743A_5_BETA_2005-11-18_00:00:00</td>\n",
       "      <td>SAM.IT1743A_5_BETA_2005-11-18_00:00:00</td>\n",
       "      <td>PM10</td>\n",
       "      <td>http://dd.eionet.europa.eu/vocabulary/aq/pollu...</td>\n",
       "      <td>day</td>\n",
       "      <td>81.100000</td>\n",
       "      <td>µg/m3</td>\n",
       "      <td>2020-01-11 00:00:00 +01:00</td>\n",
       "      <td>2020-01-12 00:00:00 +01:00</td>\n",
       "      <td>1</td>\n",
       "      <td>3</td>\n",
       "    </tr>\n",
       "    <tr>\n",
       "      <th>3</th>\n",
       "      <td>IT</td>\n",
       "      <td>IT.ISPRA.AQD</td>\n",
       "      <td>NET.IT082A</td>\n",
       "      <td>STA.IT1743A</td>\n",
       "      <td>IT1743A</td>\n",
       "      <td>SPO.IT1743A_5_BETA_2005-11-18_00:00:00</td>\n",
       "      <td>SPP.IT1743A_5_BETA_2005-11-18_00:00:00</td>\n",
       "      <td>SAM.IT1743A_5_BETA_2005-11-18_00:00:00</td>\n",
       "      <td>PM10</td>\n",
       "      <td>http://dd.eionet.europa.eu/vocabulary/aq/pollu...</td>\n",
       "      <td>day</td>\n",
       "      <td>53.400000</td>\n",
       "      <td>µg/m3</td>\n",
       "      <td>2020-01-12 00:00:00 +01:00</td>\n",
       "      <td>2020-01-13 00:00:00 +01:00</td>\n",
       "      <td>1</td>\n",
       "      <td>3</td>\n",
       "    </tr>\n",
       "    <tr>\n",
       "      <th>4</th>\n",
       "      <td>IT</td>\n",
       "      <td>IT.ISPRA.AQD</td>\n",
       "      <td>NET.IT082A</td>\n",
       "      <td>STA.IT1743A</td>\n",
       "      <td>IT1743A</td>\n",
       "      <td>SPO.IT1743A_5_BETA_2005-11-18_00:00:00</td>\n",
       "      <td>SPP.IT1743A_5_BETA_2005-11-18_00:00:00</td>\n",
       "      <td>SAM.IT1743A_5_BETA_2005-11-18_00:00:00</td>\n",
       "      <td>PM10</td>\n",
       "      <td>http://dd.eionet.europa.eu/vocabulary/aq/pollu...</td>\n",
       "      <td>day</td>\n",
       "      <td>69.000000</td>\n",
       "      <td>µg/m3</td>\n",
       "      <td>2020-01-13 00:00:00 +01:00</td>\n",
       "      <td>2020-01-14 00:00:00 +01:00</td>\n",
       "      <td>1</td>\n",
       "      <td>3</td>\n",
       "    </tr>\n",
       "    <tr>\n",
       "      <th>...</th>\n",
       "      <td>...</td>\n",
       "      <td>...</td>\n",
       "      <td>...</td>\n",
       "      <td>...</td>\n",
       "      <td>...</td>\n",
       "      <td>...</td>\n",
       "      <td>...</td>\n",
       "      <td>...</td>\n",
       "      <td>...</td>\n",
       "      <td>...</td>\n",
       "      <td>...</td>\n",
       "      <td>...</td>\n",
       "      <td>...</td>\n",
       "      <td>...</td>\n",
       "      <td>...</td>\n",
       "      <td>...</td>\n",
       "      <td>...</td>\n",
       "    </tr>\n",
       "    <tr>\n",
       "      <th>2768</th>\n",
       "      <td>IT</td>\n",
       "      <td>IT.ISPRA.AQD</td>\n",
       "      <td>NET.IT082A</td>\n",
       "      <td>STA.IT0477A</td>\n",
       "      <td>IT0477A</td>\n",
       "      <td>SPO.IT0477A_5_BETA_2018-01-01_00:00:00</td>\n",
       "      <td>SPP.IT0477A_5_BETA_2018-01-01_00:00:00</td>\n",
       "      <td>SAM.IT0477A_5_BETA_2018-01-01_00:00:00</td>\n",
       "      <td>PM10</td>\n",
       "      <td>http://dd.eionet.europa.eu/vocabulary/aq/pollu...</td>\n",
       "      <td>day</td>\n",
       "      <td>8.449721</td>\n",
       "      <td>µg/m3</td>\n",
       "      <td>2020-12-26 00:00:00 +01:00</td>\n",
       "      <td>2020-12-27 00:00:00 +01:00</td>\n",
       "      <td>1</td>\n",
       "      <td>3</td>\n",
       "    </tr>\n",
       "    <tr>\n",
       "      <th>2769</th>\n",
       "      <td>IT</td>\n",
       "      <td>IT.ISPRA.AQD</td>\n",
       "      <td>NET.IT082A</td>\n",
       "      <td>STA.IT0477A</td>\n",
       "      <td>IT0477A</td>\n",
       "      <td>SPO.IT0477A_5_BETA_2018-01-01_00:00:00</td>\n",
       "      <td>SPP.IT0477A_5_BETA_2018-01-01_00:00:00</td>\n",
       "      <td>SAM.IT0477A_5_BETA_2018-01-01_00:00:00</td>\n",
       "      <td>PM10</td>\n",
       "      <td>http://dd.eionet.europa.eu/vocabulary/aq/pollu...</td>\n",
       "      <td>day</td>\n",
       "      <td>29.734741</td>\n",
       "      <td>µg/m3</td>\n",
       "      <td>2020-12-27 00:00:00 +01:00</td>\n",
       "      <td>2020-12-28 00:00:00 +01:00</td>\n",
       "      <td>1</td>\n",
       "      <td>3</td>\n",
       "    </tr>\n",
       "    <tr>\n",
       "      <th>2770</th>\n",
       "      <td>IT</td>\n",
       "      <td>IT.ISPRA.AQD</td>\n",
       "      <td>NET.IT082A</td>\n",
       "      <td>STA.IT0477A</td>\n",
       "      <td>IT0477A</td>\n",
       "      <td>SPO.IT0477A_5_BETA_2018-01-01_00:00:00</td>\n",
       "      <td>SPP.IT0477A_5_BETA_2018-01-01_00:00:00</td>\n",
       "      <td>SAM.IT0477A_5_BETA_2018-01-01_00:00:00</td>\n",
       "      <td>PM10</td>\n",
       "      <td>http://dd.eionet.europa.eu/vocabulary/aq/pollu...</td>\n",
       "      <td>day</td>\n",
       "      <td>20.608600</td>\n",
       "      <td>µg/m3</td>\n",
       "      <td>2020-12-28 00:00:00 +01:00</td>\n",
       "      <td>2020-12-29 00:00:00 +01:00</td>\n",
       "      <td>1</td>\n",
       "      <td>3</td>\n",
       "    </tr>\n",
       "    <tr>\n",
       "      <th>2771</th>\n",
       "      <td>IT</td>\n",
       "      <td>IT.ISPRA.AQD</td>\n",
       "      <td>NET.IT082A</td>\n",
       "      <td>STA.IT0477A</td>\n",
       "      <td>IT0477A</td>\n",
       "      <td>SPO.IT0477A_5_BETA_2018-01-01_00:00:00</td>\n",
       "      <td>SPP.IT0477A_5_BETA_2018-01-01_00:00:00</td>\n",
       "      <td>SAM.IT0477A_5_BETA_2018-01-01_00:00:00</td>\n",
       "      <td>PM10</td>\n",
       "      <td>http://dd.eionet.europa.eu/vocabulary/aq/pollu...</td>\n",
       "      <td>day</td>\n",
       "      <td>36.742424</td>\n",
       "      <td>µg/m3</td>\n",
       "      <td>2020-12-29 00:00:00 +01:00</td>\n",
       "      <td>2020-12-30 00:00:00 +01:00</td>\n",
       "      <td>1</td>\n",
       "      <td>3</td>\n",
       "    </tr>\n",
       "    <tr>\n",
       "      <th>2772</th>\n",
       "      <td>IT</td>\n",
       "      <td>IT.ISPRA.AQD</td>\n",
       "      <td>NET.IT082A</td>\n",
       "      <td>STA.IT0477A</td>\n",
       "      <td>IT0477A</td>\n",
       "      <td>SPO.IT0477A_5_BETA_2018-01-01_00:00:00</td>\n",
       "      <td>SPP.IT0477A_5_BETA_2018-01-01_00:00:00</td>\n",
       "      <td>SAM.IT0477A_5_BETA_2018-01-01_00:00:00</td>\n",
       "      <td>PM10</td>\n",
       "      <td>http://dd.eionet.europa.eu/vocabulary/aq/pollu...</td>\n",
       "      <td>day</td>\n",
       "      <td>48.315550</td>\n",
       "      <td>µg/m3</td>\n",
       "      <td>2020-12-30 00:00:00 +01:00</td>\n",
       "      <td>2020-12-31 00:00:00 +01:00</td>\n",
       "      <td>1</td>\n",
       "      <td>3</td>\n",
       "    </tr>\n",
       "  </tbody>\n",
       "</table>\n",
       "<p>2773 rows × 17 columns</p>\n",
       "</div>"
      ],
      "text/plain": [
       "     Countrycode     Namespace AirQualityNetwork AirQualityStation  \\\n",
       "0             IT  IT.ISPRA.AQD        NET.IT082A       STA.IT1743A   \n",
       "1             IT  IT.ISPRA.AQD        NET.IT082A       STA.IT1743A   \n",
       "2             IT  IT.ISPRA.AQD        NET.IT082A       STA.IT1743A   \n",
       "3             IT  IT.ISPRA.AQD        NET.IT082A       STA.IT1743A   \n",
       "4             IT  IT.ISPRA.AQD        NET.IT082A       STA.IT1743A   \n",
       "...          ...           ...               ...               ...   \n",
       "2768          IT  IT.ISPRA.AQD        NET.IT082A       STA.IT0477A   \n",
       "2769          IT  IT.ISPRA.AQD        NET.IT082A       STA.IT0477A   \n",
       "2770          IT  IT.ISPRA.AQD        NET.IT082A       STA.IT0477A   \n",
       "2771          IT  IT.ISPRA.AQD        NET.IT082A       STA.IT0477A   \n",
       "2772          IT  IT.ISPRA.AQD        NET.IT082A       STA.IT0477A   \n",
       "\n",
       "     AirQualityStationEoICode                           SamplingPoint  \\\n",
       "0                     IT1743A  SPO.IT1743A_5_BETA_2005-11-18_00:00:00   \n",
       "1                     IT1743A  SPO.IT1743A_5_BETA_2005-11-18_00:00:00   \n",
       "2                     IT1743A  SPO.IT1743A_5_BETA_2005-11-18_00:00:00   \n",
       "3                     IT1743A  SPO.IT1743A_5_BETA_2005-11-18_00:00:00   \n",
       "4                     IT1743A  SPO.IT1743A_5_BETA_2005-11-18_00:00:00   \n",
       "...                       ...                                     ...   \n",
       "2768                  IT0477A  SPO.IT0477A_5_BETA_2018-01-01_00:00:00   \n",
       "2769                  IT0477A  SPO.IT0477A_5_BETA_2018-01-01_00:00:00   \n",
       "2770                  IT0477A  SPO.IT0477A_5_BETA_2018-01-01_00:00:00   \n",
       "2771                  IT0477A  SPO.IT0477A_5_BETA_2018-01-01_00:00:00   \n",
       "2772                  IT0477A  SPO.IT0477A_5_BETA_2018-01-01_00:00:00   \n",
       "\n",
       "                             SamplingProcess  \\\n",
       "0     SPP.IT1743A_5_BETA_2005-11-18_00:00:00   \n",
       "1     SPP.IT1743A_5_BETA_2005-11-18_00:00:00   \n",
       "2     SPP.IT1743A_5_BETA_2005-11-18_00:00:00   \n",
       "3     SPP.IT1743A_5_BETA_2005-11-18_00:00:00   \n",
       "4     SPP.IT1743A_5_BETA_2005-11-18_00:00:00   \n",
       "...                                      ...   \n",
       "2768  SPP.IT0477A_5_BETA_2018-01-01_00:00:00   \n",
       "2769  SPP.IT0477A_5_BETA_2018-01-01_00:00:00   \n",
       "2770  SPP.IT0477A_5_BETA_2018-01-01_00:00:00   \n",
       "2771  SPP.IT0477A_5_BETA_2018-01-01_00:00:00   \n",
       "2772  SPP.IT0477A_5_BETA_2018-01-01_00:00:00   \n",
       "\n",
       "                                      Sample AirPollutant  \\\n",
       "0     SAM.IT1743A_5_BETA_2005-11-18_00:00:00         PM10   \n",
       "1     SAM.IT1743A_5_BETA_2005-11-18_00:00:00         PM10   \n",
       "2     SAM.IT1743A_5_BETA_2005-11-18_00:00:00         PM10   \n",
       "3     SAM.IT1743A_5_BETA_2005-11-18_00:00:00         PM10   \n",
       "4     SAM.IT1743A_5_BETA_2005-11-18_00:00:00         PM10   \n",
       "...                                      ...          ...   \n",
       "2768  SAM.IT0477A_5_BETA_2018-01-01_00:00:00         PM10   \n",
       "2769  SAM.IT0477A_5_BETA_2018-01-01_00:00:00         PM10   \n",
       "2770  SAM.IT0477A_5_BETA_2018-01-01_00:00:00         PM10   \n",
       "2771  SAM.IT0477A_5_BETA_2018-01-01_00:00:00         PM10   \n",
       "2772  SAM.IT0477A_5_BETA_2018-01-01_00:00:00         PM10   \n",
       "\n",
       "                                       AirPollutantCode AveragingTime  \\\n",
       "0     http://dd.eionet.europa.eu/vocabulary/aq/pollu...           day   \n",
       "1     http://dd.eionet.europa.eu/vocabulary/aq/pollu...           day   \n",
       "2     http://dd.eionet.europa.eu/vocabulary/aq/pollu...           day   \n",
       "3     http://dd.eionet.europa.eu/vocabulary/aq/pollu...           day   \n",
       "4     http://dd.eionet.europa.eu/vocabulary/aq/pollu...           day   \n",
       "...                                                 ...           ...   \n",
       "2768  http://dd.eionet.europa.eu/vocabulary/aq/pollu...           day   \n",
       "2769  http://dd.eionet.europa.eu/vocabulary/aq/pollu...           day   \n",
       "2770  http://dd.eionet.europa.eu/vocabulary/aq/pollu...           day   \n",
       "2771  http://dd.eionet.europa.eu/vocabulary/aq/pollu...           day   \n",
       "2772  http://dd.eionet.europa.eu/vocabulary/aq/pollu...           day   \n",
       "\n",
       "      Concentration UnitOfMeasurement               DatetimeBegin  \\\n",
       "0         79.600000             µg/m3  2020-01-09 00:00:00 +01:00   \n",
       "1         64.700000             µg/m3  2020-01-10 00:00:00 +01:00   \n",
       "2         81.100000             µg/m3  2020-01-11 00:00:00 +01:00   \n",
       "3         53.400000             µg/m3  2020-01-12 00:00:00 +01:00   \n",
       "4         69.000000             µg/m3  2020-01-13 00:00:00 +01:00   \n",
       "...             ...               ...                         ...   \n",
       "2768       8.449721             µg/m3  2020-12-26 00:00:00 +01:00   \n",
       "2769      29.734741             µg/m3  2020-12-27 00:00:00 +01:00   \n",
       "2770      20.608600             µg/m3  2020-12-28 00:00:00 +01:00   \n",
       "2771      36.742424             µg/m3  2020-12-29 00:00:00 +01:00   \n",
       "2772      48.315550             µg/m3  2020-12-30 00:00:00 +01:00   \n",
       "\n",
       "                     DatetimeEnd  Validity  Verification  \n",
       "0     2020-01-10 00:00:00 +01:00         1             3  \n",
       "1     2020-01-11 00:00:00 +01:00         1             3  \n",
       "2     2020-01-12 00:00:00 +01:00         1             3  \n",
       "3     2020-01-13 00:00:00 +01:00         1             3  \n",
       "4     2020-01-14 00:00:00 +01:00         1             3  \n",
       "...                          ...       ...           ...  \n",
       "2768  2020-12-27 00:00:00 +01:00         1             3  \n",
       "2769  2020-12-28 00:00:00 +01:00         1             3  \n",
       "2770  2020-12-29 00:00:00 +01:00         1             3  \n",
       "2771  2020-12-30 00:00:00 +01:00         1             3  \n",
       "2772  2020-12-31 00:00:00 +01:00         1             3  \n",
       "\n",
       "[2773 rows x 17 columns]"
      ]
     },
     "execution_count": 2,
     "metadata": {},
     "output_type": "execute_result"
    }
   ],
   "source": [
    "source_path = \"C:\\\\Datasets\\\\EEA\"\n",
    "countries_cities_dict = {\"IT\":[\"Milano\"]}\n",
    "pollutants = [\"PM10\"]\n",
    "years = [2020] \n",
    "df = eea.load_datasets(source_path, countries_cities_dict, pollutants, years)\n",
    "\n",
    "df.info()\n",
    "df"
   ]
  },
  {
   "cell_type": "markdown",
   "metadata": {},
   "source": [
    "There are a lot of columns, but only three of them are of interest. "
   ]
  },
  {
   "cell_type": "code",
   "execution_count": 16,
   "metadata": {},
   "outputs": [
    {
     "name": "stdout",
     "output_type": "stream",
     "text": [
      "<class 'pandas.core.frame.DataFrame'>\n",
      "RangeIndex: 2773 entries, 0 to 2772\n",
      "Data columns (total 3 columns):\n",
      " #   Column         Non-Null Count  Dtype  \n",
      "---  ------         --------------  -----  \n",
      " 0   Concentration  2727 non-null   float64\n",
      " 1   DatetimeBegin  2773 non-null   object \n",
      " 2   Validity       2773 non-null   int64  \n",
      "dtypes: float64(1), int64(1), object(1)\n",
      "memory usage: 65.1+ KB\n"
     ]
    },
    {
     "data": {
      "text/html": [
       "<div>\n",
       "<style scoped>\n",
       "    .dataframe tbody tr th:only-of-type {\n",
       "        vertical-align: middle;\n",
       "    }\n",
       "\n",
       "    .dataframe tbody tr th {\n",
       "        vertical-align: top;\n",
       "    }\n",
       "\n",
       "    .dataframe thead th {\n",
       "        text-align: right;\n",
       "    }\n",
       "</style>\n",
       "<table border=\"1\" class=\"dataframe\">\n",
       "  <thead>\n",
       "    <tr style=\"text-align: right;\">\n",
       "      <th></th>\n",
       "      <th>Concentration</th>\n",
       "      <th>DatetimeBegin</th>\n",
       "      <th>Validity</th>\n",
       "    </tr>\n",
       "  </thead>\n",
       "  <tbody>\n",
       "    <tr>\n",
       "      <th>0</th>\n",
       "      <td>79.600000</td>\n",
       "      <td>2020-01-09 00:00:00 +01:00</td>\n",
       "      <td>1</td>\n",
       "    </tr>\n",
       "    <tr>\n",
       "      <th>1</th>\n",
       "      <td>64.700000</td>\n",
       "      <td>2020-01-10 00:00:00 +01:00</td>\n",
       "      <td>1</td>\n",
       "    </tr>\n",
       "    <tr>\n",
       "      <th>2</th>\n",
       "      <td>81.100000</td>\n",
       "      <td>2020-01-11 00:00:00 +01:00</td>\n",
       "      <td>1</td>\n",
       "    </tr>\n",
       "    <tr>\n",
       "      <th>3</th>\n",
       "      <td>53.400000</td>\n",
       "      <td>2020-01-12 00:00:00 +01:00</td>\n",
       "      <td>1</td>\n",
       "    </tr>\n",
       "    <tr>\n",
       "      <th>4</th>\n",
       "      <td>69.000000</td>\n",
       "      <td>2020-01-13 00:00:00 +01:00</td>\n",
       "      <td>1</td>\n",
       "    </tr>\n",
       "    <tr>\n",
       "      <th>...</th>\n",
       "      <td>...</td>\n",
       "      <td>...</td>\n",
       "      <td>...</td>\n",
       "    </tr>\n",
       "    <tr>\n",
       "      <th>2768</th>\n",
       "      <td>8.449721</td>\n",
       "      <td>2020-12-26 00:00:00 +01:00</td>\n",
       "      <td>1</td>\n",
       "    </tr>\n",
       "    <tr>\n",
       "      <th>2769</th>\n",
       "      <td>29.734741</td>\n",
       "      <td>2020-12-27 00:00:00 +01:00</td>\n",
       "      <td>1</td>\n",
       "    </tr>\n",
       "    <tr>\n",
       "      <th>2770</th>\n",
       "      <td>20.608600</td>\n",
       "      <td>2020-12-28 00:00:00 +01:00</td>\n",
       "      <td>1</td>\n",
       "    </tr>\n",
       "    <tr>\n",
       "      <th>2771</th>\n",
       "      <td>36.742424</td>\n",
       "      <td>2020-12-29 00:00:00 +01:00</td>\n",
       "      <td>1</td>\n",
       "    </tr>\n",
       "    <tr>\n",
       "      <th>2772</th>\n",
       "      <td>48.315550</td>\n",
       "      <td>2020-12-30 00:00:00 +01:00</td>\n",
       "      <td>1</td>\n",
       "    </tr>\n",
       "  </tbody>\n",
       "</table>\n",
       "<p>2773 rows × 3 columns</p>\n",
       "</div>"
      ],
      "text/plain": [
       "      Concentration               DatetimeBegin  Validity\n",
       "0         79.600000  2020-01-09 00:00:00 +01:00         1\n",
       "1         64.700000  2020-01-10 00:00:00 +01:00         1\n",
       "2         81.100000  2020-01-11 00:00:00 +01:00         1\n",
       "3         53.400000  2020-01-12 00:00:00 +01:00         1\n",
       "4         69.000000  2020-01-13 00:00:00 +01:00         1\n",
       "...             ...                         ...       ...\n",
       "2768       8.449721  2020-12-26 00:00:00 +01:00         1\n",
       "2769      29.734741  2020-12-27 00:00:00 +01:00         1\n",
       "2770      20.608600  2020-12-28 00:00:00 +01:00         1\n",
       "2771      36.742424  2020-12-29 00:00:00 +01:00         1\n",
       "2772      48.315550  2020-12-30 00:00:00 +01:00         1\n",
       "\n",
       "[2773 rows x 3 columns]"
      ]
     },
     "execution_count": 16,
     "metadata": {},
     "output_type": "execute_result"
    }
   ],
   "source": [
    "df[[\"Concentration\",\"DatetimeBegin\",\"Validity\"]].info()\n",
    "df[[\"Concentration\",\"DatetimeBegin\",\"Validity\"]]"
   ]
  },
  {
   "cell_type": "code",
   "execution_count": null,
   "metadata": {},
   "outputs": [],
   "source": []
  },
  {
   "cell_type": "code",
   "execution_count": null,
   "metadata": {},
   "outputs": [],
   "source": []
  },
  {
   "cell_type": "code",
   "execution_count": null,
   "metadata": {},
   "outputs": [],
   "source": []
  },
  {
   "cell_type": "markdown",
   "metadata": {},
   "source": [
    "# PREPROCESSING"
   ]
  },
  {
   "cell_type": "markdown",
   "metadata": {},
   "source": [
    "It processes the raw DataFrame."
   ]
  },
  {
   "cell_type": "code",
   "execution_count": 17,
   "metadata": {},
   "outputs": [
    {
     "name": "stdout",
     "output_type": "stream",
     "text": [
      "<class 'pandas.core.frame.DataFrame'>\n",
      "DatetimeIndex: 365 entries, 2020-01-01 to 2020-12-30\n",
      "Data columns (total 1 columns):\n",
      " #   Column  Non-Null Count  Dtype  \n",
      "---  ------  --------------  -----  \n",
      " 0   mean    352 non-null    float64\n",
      "dtypes: float64(1)\n",
      "memory usage: 5.7 KB\n"
     ]
    },
    {
     "name": "stderr",
     "output_type": "stream",
     "text": [
      "C:\\Users\\Enrico\\Desktop\\TirocinioTesi\\CodiceGithub\\EEA_datasets_handler.py:809: UserWarning: Missing days: ['2020-01-30', '2020-01-31', '2020-02-01', '2020-02-02', '2020-02-03', '2020-02-04', '2020-02-05', '2020-02-06', '2020-02-07', '2020-02-08', '2020-02-09', '2020-02-10', '2020-02-11']\n",
      "  warnings.warn(\"Missing days: \"+str(list(missing_days.strftime('%Y-%m-%d'))))\n"
     ]
    },
    {
     "data": {
      "text/html": [
       "<div>\n",
       "<style scoped>\n",
       "    .dataframe tbody tr th:only-of-type {\n",
       "        vertical-align: middle;\n",
       "    }\n",
       "\n",
       "    .dataframe tbody tr th {\n",
       "        vertical-align: top;\n",
       "    }\n",
       "\n",
       "    .dataframe thead th {\n",
       "        text-align: right;\n",
       "    }\n",
       "</style>\n",
       "<table border=\"1\" class=\"dataframe\">\n",
       "  <thead>\n",
       "    <tr style=\"text-align: right;\">\n",
       "      <th></th>\n",
       "      <th>mean</th>\n",
       "    </tr>\n",
       "    <tr>\n",
       "      <th>Datetime</th>\n",
       "      <th></th>\n",
       "    </tr>\n",
       "  </thead>\n",
       "  <tbody>\n",
       "    <tr>\n",
       "      <th>2020-01-01</th>\n",
       "      <td>134.085714</td>\n",
       "    </tr>\n",
       "    <tr>\n",
       "      <th>2020-01-02</th>\n",
       "      <td>63.385286</td>\n",
       "    </tr>\n",
       "    <tr>\n",
       "      <th>2020-01-03</th>\n",
       "      <td>74.135229</td>\n",
       "    </tr>\n",
       "    <tr>\n",
       "      <th>2020-01-04</th>\n",
       "      <td>49.752786</td>\n",
       "    </tr>\n",
       "    <tr>\n",
       "      <th>2020-01-05</th>\n",
       "      <td>41.842857</td>\n",
       "    </tr>\n",
       "    <tr>\n",
       "      <th>...</th>\n",
       "      <td>...</td>\n",
       "    </tr>\n",
       "    <tr>\n",
       "      <th>2020-12-26</th>\n",
       "      <td>10.393387</td>\n",
       "    </tr>\n",
       "    <tr>\n",
       "      <th>2020-12-27</th>\n",
       "      <td>26.273187</td>\n",
       "    </tr>\n",
       "    <tr>\n",
       "      <th>2020-12-28</th>\n",
       "      <td>18.873236</td>\n",
       "    </tr>\n",
       "    <tr>\n",
       "      <th>2020-12-29</th>\n",
       "      <td>38.374420</td>\n",
       "    </tr>\n",
       "    <tr>\n",
       "      <th>2020-12-30</th>\n",
       "      <td>56.038968</td>\n",
       "    </tr>\n",
       "  </tbody>\n",
       "</table>\n",
       "<p>365 rows × 1 columns</p>\n",
       "</div>"
      ],
      "text/plain": [
       "                  mean\n",
       "Datetime              \n",
       "2020-01-01  134.085714\n",
       "2020-01-02   63.385286\n",
       "2020-01-03   74.135229\n",
       "2020-01-04   49.752786\n",
       "2020-01-05   41.842857\n",
       "...                ...\n",
       "2020-12-26   10.393387\n",
       "2020-12-27   26.273187\n",
       "2020-12-28   18.873236\n",
       "2020-12-29   38.374420\n",
       "2020-12-30   56.038968\n",
       "\n",
       "[365 rows x 1 columns]"
      ]
     },
     "execution_count": 17,
     "metadata": {},
     "output_type": "execute_result"
    }
   ],
   "source": [
    "source_path = \"C:\\\\Datasets\\\\EEA\"\n",
    "countries_cities_dict = {\"IT\":[\"Milano\"]}\n",
    "pollutants = [\"PM10\"]\n",
    "years = [2020] \n",
    "df = eea.load_datasets(source_path, countries_cities_dict, pollutants, years)\n",
    "\n",
    "df_mean, df_min, df_max = eea.preprocessing(df, fill=False)\n",
    "\n",
    "df_mean.info()\n",
    "df_mean"
   ]
  },
  {
   "cell_type": "markdown",
   "metadata": {},
   "source": [
    "A warning is given for each missing day.\n",
    "\n",
    "With `fill`=False the missing days have associated Nan."
   ]
  },
  {
   "cell_type": "code",
   "execution_count": 18,
   "metadata": {
    "scrolled": true
   },
   "outputs": [
    {
     "data": {
      "text/plain": [
       "nan"
      ]
     },
     "execution_count": 18,
     "metadata": {},
     "output_type": "execute_result"
    }
   ],
   "source": [
    "df_mean[\"mean\"].loc['2020-01-30'] #Nan"
   ]
  },
  {
   "cell_type": "code",
   "execution_count": null,
   "metadata": {},
   "outputs": [],
   "source": []
  },
  {
   "cell_type": "markdown",
   "metadata": {},
   "source": [
    "**fill = True**"
   ]
  },
  {
   "cell_type": "markdown",
   "metadata": {},
   "source": [
    "The missing days are filled with the mean of the specified preceding days."
   ]
  },
  {
   "cell_type": "code",
   "execution_count": 24,
   "metadata": {},
   "outputs": [
    {
     "name": "stderr",
     "output_type": "stream",
     "text": [
      "C:\\Users\\Enrico\\Desktop\\TirocinioTesi\\CodiceGithub\\EEA_datasets_handler.py:809: UserWarning: Missing days: ['2020-01-30', '2020-01-31', '2020-02-01', '2020-02-02', '2020-02-03', '2020-02-04', '2020-02-05', '2020-02-06', '2020-02-07', '2020-02-08', '2020-02-09', '2020-02-10', '2020-02-11']\n",
      "  warnings.warn(\"Missing days: \"+str(list(missing_days.strftime('%Y-%m-%d'))))\n"
     ]
    }
   ],
   "source": [
    "source_path = \"C:\\\\Datasets\\\\EEA\"\n",
    "countries_cities_dict = {\"IT\": [\"Milano\"]}\n",
    "pollutants = [\"PM10\"]\n",
    "years = [2020] \n",
    "df = eea.load_datasets(source_path, countries_cities_dict, pollutants, years)\n",
    "\n",
    "df_mean,df_min,df_max = eea.preprocessing(df, fill=True, fill_n_days=10, fill_aggr=\"mean\")"
   ]
  },
  {
   "cell_type": "code",
   "execution_count": 25,
   "metadata": {},
   "outputs": [
    {
     "data": {
      "text/html": [
       "<div>\n",
       "<style scoped>\n",
       "    .dataframe tbody tr th:only-of-type {\n",
       "        vertical-align: middle;\n",
       "    }\n",
       "\n",
       "    .dataframe tbody tr th {\n",
       "        vertical-align: top;\n",
       "    }\n",
       "\n",
       "    .dataframe thead th {\n",
       "        text-align: right;\n",
       "    }\n",
       "</style>\n",
       "<table border=\"1\" class=\"dataframe\">\n",
       "  <thead>\n",
       "    <tr style=\"text-align: right;\">\n",
       "      <th></th>\n",
       "      <th>mean</th>\n",
       "    </tr>\n",
       "    <tr>\n",
       "      <th>Datetime</th>\n",
       "      <th></th>\n",
       "    </tr>\n",
       "  </thead>\n",
       "  <tbody>\n",
       "    <tr>\n",
       "      <th>2020-01-01</th>\n",
       "      <td>134.085714</td>\n",
       "    </tr>\n",
       "    <tr>\n",
       "      <th>2020-01-02</th>\n",
       "      <td>63.385286</td>\n",
       "    </tr>\n",
       "    <tr>\n",
       "      <th>2020-01-03</th>\n",
       "      <td>74.135229</td>\n",
       "    </tr>\n",
       "    <tr>\n",
       "      <th>2020-01-04</th>\n",
       "      <td>49.752786</td>\n",
       "    </tr>\n",
       "    <tr>\n",
       "      <th>2020-01-05</th>\n",
       "      <td>41.842857</td>\n",
       "    </tr>\n",
       "    <tr>\n",
       "      <th>...</th>\n",
       "      <td>...</td>\n",
       "    </tr>\n",
       "    <tr>\n",
       "      <th>2020-12-26</th>\n",
       "      <td>10.393387</td>\n",
       "    </tr>\n",
       "    <tr>\n",
       "      <th>2020-12-27</th>\n",
       "      <td>26.273187</td>\n",
       "    </tr>\n",
       "    <tr>\n",
       "      <th>2020-12-28</th>\n",
       "      <td>18.873236</td>\n",
       "    </tr>\n",
       "    <tr>\n",
       "      <th>2020-12-29</th>\n",
       "      <td>38.374420</td>\n",
       "    </tr>\n",
       "    <tr>\n",
       "      <th>2020-12-30</th>\n",
       "      <td>56.038968</td>\n",
       "    </tr>\n",
       "  </tbody>\n",
       "</table>\n",
       "<p>365 rows × 1 columns</p>\n",
       "</div>"
      ],
      "text/plain": [
       "                  mean\n",
       "Datetime              \n",
       "2020-01-01  134.085714\n",
       "2020-01-02   63.385286\n",
       "2020-01-03   74.135229\n",
       "2020-01-04   49.752786\n",
       "2020-01-05   41.842857\n",
       "...                ...\n",
       "2020-12-26   10.393387\n",
       "2020-12-27   26.273187\n",
       "2020-12-28   18.873236\n",
       "2020-12-29   38.374420\n",
       "2020-12-30   56.038968\n",
       "\n",
       "[365 rows x 1 columns]"
      ]
     },
     "execution_count": 25,
     "metadata": {},
     "output_type": "execute_result"
    }
   ],
   "source": [
    "df_mean"
   ]
  },
  {
   "cell_type": "code",
   "execution_count": null,
   "metadata": {},
   "outputs": [],
   "source": []
  },
  {
   "cell_type": "code",
   "execution_count": 26,
   "metadata": {},
   "outputs": [
    {
     "data": {
      "text/plain": [
       "mean    67.493241\n",
       "Name: 2020-01-31 00:00:00, dtype: float64"
      ]
     },
     "execution_count": 26,
     "metadata": {},
     "output_type": "execute_result"
    }
   ],
   "source": [
    "df_mean.loc['2020-01-31']"
   ]
  },
  {
   "cell_type": "code",
   "execution_count": 27,
   "metadata": {},
   "outputs": [
    {
     "data": {
      "text/plain": [
       "mean    67.493241\n",
       "dtype: float64"
      ]
     },
     "execution_count": 27,
     "metadata": {},
     "output_type": "execute_result"
    }
   ],
   "source": [
    "import pandas as pd\n",
    "df_mean.loc[pd.to_datetime(['2020-01-21','2020-01-22','2020-01-23','2020-01-24','2020-01-25','2020-01-26','2020-01-27','2020-01-28'\n",
    "           ,'2020-01-29','2020-01-30'])].mean()"
   ]
  },
  {
   "cell_type": "code",
   "execution_count": null,
   "metadata": {},
   "outputs": [],
   "source": []
  },
  {
   "cell_type": "code",
   "execution_count": null,
   "metadata": {},
   "outputs": [],
   "source": []
  },
  {
   "cell_type": "code",
   "execution_count": null,
   "metadata": {},
   "outputs": [],
   "source": []
  }
 ],
 "metadata": {
  "kernelspec": {
   "display_name": "Python 3 (ipykernel)",
   "language": "python",
   "name": "python3"
  },
  "language_info": {
   "codemirror_mode": {
    "name": "ipython",
    "version": 3
   },
   "file_extension": ".py",
   "mimetype": "text/x-python",
   "name": "python",
   "nbconvert_exporter": "python",
   "pygments_lexer": "ipython3",
   "version": "3.8.8"
  }
 },
 "nbformat": 4,
 "nbformat_minor": 4
}
